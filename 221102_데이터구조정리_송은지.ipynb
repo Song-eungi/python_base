{
  "nbformat": 4,
  "nbformat_minor": 0,
  "metadata": {
    "colab": {
      "provenance": [],
      "collapsed_sections": [],
      "authorship_tag": "ABX9TyNIt9VtfbEmE4CFgWxHu24X",
      "include_colab_link": true
    },
    "kernelspec": {
      "name": "python3",
      "display_name": "Python 3"
    },
    "language_info": {
      "name": "python"
    }
  },
  "cells": [
    {
      "cell_type": "markdown",
      "metadata": {
        "id": "view-in-github",
        "colab_type": "text"
      },
      "source": [
        "<a href=\"https://colab.research.google.com/github/Song-eungi/python_base/blob/main/221102_%EB%8D%B0%EC%9D%B4%ED%84%B0%EA%B5%AC%EC%A1%B0%EC%A0%95%EB%A6%AC_%EC%86%A1%EC%9D%80%EC%A7%80.ipynb\" target=\"_parent\"><img src=\"https://colab.research.google.com/assets/colab-badge.svg\" alt=\"Open In Colab\"/></a>"
      ]
    },
    {
      "cell_type": "markdown",
      "source": [
        "## 파이썬 문자열 함수"
      ],
      "metadata": {
        "id": "7CmRWt20eEmG"
      }
    },
    {
      "cell_type": "code",
      "source": [
        "str = \" Life is good \"\n",
        "lenstr = len(str) # 문자열 길이 구하기\n",
        "findstr = str. find(\"1\") # 특정 문자 찾기\n",
        "upeerstr = str.upper()# 문자열 대문자로\n",
        "lowerstr = str. lower() # 문자열 소문자로\n",
        "stripstr = str.strip() # 양쪽 공백 없애기\n",
        "replacestr = str.replace(\"good\", \"bad\") # 특정 문자열 바꾸기\n",
        "splitstr = str.split() # 문자열 나누기\n",
        "\n",
        "print(lenstr, findstr, upeerstr, lowerstr,sep='|')\n",
        "print(stripstr, replacestr, splitstr,sep='|')"
      ],
      "metadata": {
        "colab": {
          "base_uri": "https://localhost:8080/"
        },
        "id": "yefb1Bu6eDi8",
        "outputId": "474fba87-8929-48c6-81b3-dfccbfa9537a"
      },
      "execution_count": 13,
      "outputs": [
        {
          "output_type": "stream",
          "name": "stdout",
          "text": [
            "14|-1| LIFE IS GOOD | life is good \n",
            "Life is good| Life is bad |['Life', 'is', 'good']\n"
          ]
        }
      ]
    },
    {
      "cell_type": "markdown",
      "source": [
        "## 파이썬 리스트 함수"
      ],
      "metadata": {
        "id": "gabJclOkgZDk"
      }
    },
    {
      "cell_type": "code",
      "source": [
        "# 길이가 8인 리스트\n",
        "a = [101, 102, 'b', 'l', 'o', 103, 104, 105]\n",
        " \n",
        "# 인자 접근\n",
        "print(f'a[0] : ')\n",
        "print(f'a[1] : ')\n",
        "print(f'a[2] : ')\n",
        "# ...\n",
        "print(f'a[7] : ')\n",
        " \n",
        "# print(f'a[8] : ') - error\n",
        " \n",
        " \n",
        "# 그럼 마이너스로 접근이 가능할까요?\n",
        "print(f'a[-1] : ')\n",
        "print(f'a[-2] : ')\n",
        "# ...\n",
        "print(f'a[-8] : ')"
      ],
      "metadata": {
        "id": "wyJg_Mo_eDnf",
        "outputId": "143af58e-ac4a-405d-f72e-58933c3df230",
        "colab": {
          "base_uri": "https://localhost:8080/"
        }
      },
      "execution_count": 14,
      "outputs": [
        {
          "output_type": "stream",
          "name": "stdout",
          "text": [
            "a[0] : \n",
            "a[1] : \n",
            "a[2] : \n",
            "a[7] : \n",
            "a[-1] : \n",
            "a[-2] : \n",
            "a[-8] : \n"
          ]
        }
      ]
    },
    {
      "cell_type": "code",
      "source": [
        "# 리스트 값 수정\n",
        "b = [222, 333, 444, 555]\n",
        " \n",
        "print(f'b : \\n')\n",
        " \n",
        "b[0] = 10\n",
        "print(f'b[0] = 10')\n",
        "print(f'b : \\n')\n",
        " \n",
        "b[-2] = 'BlockDMask'\n",
        "print(f'b[-2] = \\'BlockDMask\\'')\n",
        "print(f'b : \\n')\n",
        " \n",
        "b[3] = 1000\n",
        "print(f'b[3] = 1000')\n",
        "print(f'b : ')"
      ],
      "metadata": {
        "id": "uHDIHuaJgYQU",
        "outputId": "2343dff2-7a48-41d1-a0e0-b3ff07685d8d",
        "colab": {
          "base_uri": "https://localhost:8080/"
        }
      },
      "execution_count": 15,
      "outputs": [
        {
          "output_type": "stream",
          "name": "stdout",
          "text": [
            "b : \n",
            "\n",
            "b[0] = 10\n",
            "b : \n",
            "\n",
            "b[-2] = 'BlockDMask'\n",
            "b : \n",
            "\n",
            "b[3] = 1000\n",
            "b : \n"
          ]
        }
      ]
    },
    {
      "cell_type": "code",
      "source": [
        "# 리스트 슬라이싱 \n",
        "# 길이가 8인 리스트\n",
        "a = [101, 102, 'b', 'l', 'o', 103, 104, 105]\n",
        " \n",
        "# a[1] 부터 ~ a[2] 까지 슬라이싱\n",
        "print(f'a[1:3] : ')\n",
        " \n",
        "# a[1] 부터 ~ a[6] 까지 슬라이싱\n",
        "print(f'a[1:7] : ')\n",
        " \n",
        "# a[1] 부터 ~ a[7] 까지 슬라이싱 (리스트 끝 까지1)\n",
        "print(f'a[1:8] : ')\n",
        " \n",
        "# a[1] 부터 리스트 끝까지 슬라이싱 (리스트 끝 까지2)\n",
        "print(f'a[1:] : ')\n",
        " \n",
        "# 리스트 맨 앞에서 부터 맨 뒤 끝 까지\n",
        "print(f'a[:] : ')\n",
        " \n",
        "# 리스트 맨 앞에서 특정 부분 까지\n",
        "print(f'a[:3] : \\n')\n",
        " \n",
        "# 리스트 반으로 뚝딱 나누기 1\n",
        "print(f'a[:4] : ')\n",
        "print(f'a[4:] : ')\n",
        " \n",
        "# 리스트 반으로 나누기 2\n",
        "# 리스트 길이를 가지고 오는 len 내장함수 이용\n",
        "w = int(len(a) / 2)\n",
        "print(f'a[:w] : ')\n",
        "print(f'a[w:] : \\n')\n",
        " \n",
        "# 마이너스는 통할까?\n",
        "print(f'a[-2:] : ')\n",
        "print(f'a[-1:] : ')\n",
        "print(f'a[-5:-1] : ')\n",
        "print(f'a[:-5] : ')"
      ],
      "metadata": {
        "id": "wXABJhhR5Cs0",
        "outputId": "cb486f05-2e47-40bc-9150-8bbb272128df",
        "colab": {
          "base_uri": "https://localhost:8080/"
        }
      },
      "execution_count": 16,
      "outputs": [
        {
          "output_type": "stream",
          "name": "stdout",
          "text": [
            "a[1:3] : \n",
            "a[1:7] : \n",
            "a[1:8] : \n",
            "a[1:] : \n",
            "a[:] : \n",
            "a[:3] : \n",
            "\n",
            "a[:4] : \n",
            "a[4:] : \n",
            "a[:w] : \n",
            "a[w:] : \n",
            "\n",
            "a[-2:] : \n",
            "a[-1:] : \n",
            "a[-5:-1] : \n",
            "a[:-5] : \n"
          ]
        }
      ]
    },
    {
      "cell_type": "markdown",
      "source": [
        "## 파이선 튜플 함수"
      ],
      "metadata": {
        "id": "_i9qnlJ3hCdM"
      }
    },
    {
      "cell_type": "code",
      "source": [
        "a = (38, 21, 53, 62, 19)\n",
        "a"
      ],
      "metadata": {
        "id": "oh9e-_E65C00",
        "outputId": "a2c51b22-4f7c-410a-d1b8-be9a6d04f238",
        "colab": {
          "base_uri": "https://localhost:8080/"
        }
      },
      "execution_count": 17,
      "outputs": [
        {
          "output_type": "execute_result",
          "data": {
            "text/plain": [
              "(38, 21, 53, 62, 19)"
            ]
          },
          "metadata": {},
          "execution_count": 17
        }
      ]
    },
    {
      "cell_type": "code",
      "source": [
        "person = ('james', 17, 175.3, True)\n",
        "person"
      ],
      "metadata": {
        "id": "P6H4d2005C2z",
        "outputId": "11ec7d47-9dcf-46e2-cc58-ef150f06bd1f",
        "colab": {
          "base_uri": "https://localhost:8080/"
        }
      },
      "execution_count": 18,
      "outputs": [
        {
          "output_type": "execute_result",
          "data": {
            "text/plain": [
              "('james', 17, 175.3, True)"
            ]
          },
          "metadata": {},
          "execution_count": 18
        }
      ]
    },
    {
      "cell_type": "code",
      "source": [
        "#tuple(range(횟수))\n",
        "a = tuple(range(10))\n",
        "print(a)\n",
        "# 튜플 = tuple(range(시작, 끝))\n",
        "b = tuple(range(5, 12))\n",
        "print(b)\n",
        "#튜플 = tuple(range(시작, 끝, 증가폭))\n",
        "c = tuple(range(-4, 10, 2))\n",
        "print(c)"
      ],
      "metadata": {
        "id": "RJ1kOx7VhS7V",
        "outputId": "60b34852-78db-4e19-9e68-13a38e1392e9",
        "colab": {
          "base_uri": "https://localhost:8080/"
        }
      },
      "execution_count": 19,
      "outputs": [
        {
          "output_type": "stream",
          "name": "stdout",
          "text": [
            "(0, 1, 2, 3, 4, 5, 6, 7, 8, 9)\n",
            "(5, 6, 7, 8, 9, 10, 11)\n",
            "(-4, -2, 0, 2, 4, 6, 8)\n"
          ]
        }
      ]
    },
    {
      "cell_type": "code",
      "source": [
        "#튜플을 리스트로 만들고 리스트를 튜플로 만들기\n",
        "#tuple 안에 리스트를 넣으면 새 튜플이 생깁니다.\n",
        "a = [1, 2, 3]\n",
        "print(tuple(a))\n",
        "\n",
        "#반대로 list 안에 튜플을 넣으면 새 리스트가 생성됩니다.\n",
        "b = (4, 5, 6)\n",
        "print(list(b))\n"
      ],
      "metadata": {
        "id": "TWfNEf2w5C5L",
        "outputId": "b9af74e4-d654-4310-ccca-57a52281c99b",
        "colab": {
          "base_uri": "https://localhost:8080/"
        }
      },
      "execution_count": 20,
      "outputs": [
        {
          "output_type": "stream",
          "name": "stdout",
          "text": [
            "(1, 2, 3)\n",
            "[4, 5, 6]\n"
          ]
        }
      ]
    },
    {
      "cell_type": "markdown",
      "source": [
        "## 파이썬 딕셔너리 함수"
      ],
      "metadata": {
        "id": "ol6sZPdIh1HM"
      }
    },
    {
      "cell_type": "code",
      "source": [
        "#딕셔너리에서는 키의 값이 중복되지 않는다\n",
        "d1 = {\"a\":1, \"b\":2}\n",
        "d2 = {\"b\":1, \"d\":2}\n",
        "d1.update(d2)\n",
        "\n",
        "print(d1)\n",
        "\n",
        "d3= dict(c=3, d=4)\n",
        "d4=dict(d2,**d3)\n",
        "\n",
        "print(d4)"
      ],
      "metadata": {
        "colab": {
          "base_uri": "https://localhost:8080/"
        },
        "id": "xduqtsgThzPz",
        "outputId": "f964b7cc-7313-405e-d56a-f4c6d45640b0"
      },
      "execution_count": 21,
      "outputs": [
        {
          "output_type": "stream",
          "name": "stdout",
          "text": [
            "{'a': 1, 'b': 1, 'd': 2}\n",
            "{'b': 1, 'd': 4, 'c': 3}\n"
          ]
        }
      ]
    },
    {
      "cell_type": "code",
      "source": [
        "#특정값 찾기\n",
        "print(d1[\"a\"])\n",
        "\n",
        "#추가하기\n",
        "#새로운 값을 추가하려면  키와 값을 할당하면 된다.\n",
        "d1[\"d\"] = 4\n",
        "print(d1)\n",
        "\n",
        "#값 변경하기\n",
        "#값을 변경하기 위해서는 해당 키에 값을 다시 입력해 주면 된다.\n",
        "d1[\"d\"] = 5\n",
        "print(d1)\n",
        "\n",
        "#사전의 키값 얻기\n",
        "print(d1.keys())\n",
        "\n",
        "#사전의 값 얻기 \n",
        "print(d1.values())\n",
        "\n",
        "#사전의 모든 키와 값을 튜플러 묶어서 반환하기\n",
        "print(d1.items())\n",
        "\n",
        "#특정 키값 삭제하기\n",
        "del d1['d']\n",
        "print(d1)\n",
        "\n",
        "#모두 삭제하기\n",
        "d2.clear()\n",
        "print(d2)"
      ],
      "metadata": {
        "id": "0EqmeH-x5C7X",
        "colab": {
          "base_uri": "https://localhost:8080/"
        },
        "outputId": "f9e8a3a7-18c3-44f4-ace4-a1c8d2bf8354"
      },
      "execution_count": 22,
      "outputs": [
        {
          "output_type": "stream",
          "name": "stdout",
          "text": [
            "1\n",
            "{'a': 1, 'b': 1, 'd': 4}\n",
            "{'a': 1, 'b': 1, 'd': 5}\n",
            "dict_keys(['a', 'b', 'd'])\n",
            "dict_values([1, 1, 5])\n",
            "dict_items([('a', 1), ('b', 1), ('d', 5)])\n",
            "{'a': 1, 'b': 1}\n",
            "{}\n"
          ]
        }
      ]
    },
    {
      "cell_type": "code",
      "source": [],
      "metadata": {
        "id": "gw36pKgx5C9t"
      },
      "execution_count": 22,
      "outputs": []
    },
    {
      "cell_type": "code",
      "source": [],
      "metadata": {
        "id": "UwWzA2ZF5DAH"
      },
      "execution_count": 22,
      "outputs": []
    },
    {
      "cell_type": "code",
      "source": [],
      "metadata": {
        "id": "xwMf_Bl_5DCk"
      },
      "execution_count": 22,
      "outputs": []
    }
  ]
}