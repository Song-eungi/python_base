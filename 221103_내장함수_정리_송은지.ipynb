{
  "nbformat": 4,
  "nbformat_minor": 0,
  "metadata": {
    "colab": {
      "provenance": [],
      "collapsed_sections": [],
      "authorship_tag": "ABX9TyPNrcVKd1e4Jl9DvMkuNIzD",
      "include_colab_link": true
    },
    "kernelspec": {
      "name": "python3",
      "display_name": "Python 3"
    },
    "language_info": {
      "name": "python"
    }
  },
  "cells": [
    {
      "cell_type": "markdown",
      "metadata": {
        "id": "view-in-github",
        "colab_type": "text"
      },
      "source": [
        "<a href=\"https://colab.research.google.com/github/Song-eungi/python_base/blob/main/221103_%EB%82%B4%EC%9E%A5%ED%95%A8%EC%88%98_%EC%A0%95%EB%A6%AC_%EC%86%A1%EC%9D%80%EC%A7%80.ipynb\" target=\"_parent\"><img src=\"https://colab.research.google.com/assets/colab-badge.svg\" alt=\"Open In Colab\"/></a>"
      ]
    },
    {
      "cell_type": "markdown",
      "source": [
        "## 파이썬 내장 함수"
      ],
      "metadata": {
        "id": "HZnarUe8E2Iw"
      }
    },
    {
      "cell_type": "code",
      "source": [
        "\n",
        "str = '  built In Function  '\n",
        "str2 = '_'\n",
        "\n",
        "#count: 특정 문자 수를 반환\n",
        "print(\"str.count('i')  : \", str.count('i'))\n",
        "print(\"str.count('Fn') : \", str.count('Fn'))\n",
        "\n",
        "#find: 특정 문자 위치를 반환\n",
        "#index: 특정 문자 위치를 반환\n",
        "print(\"str.find('F')   : \", str.find('F'))\n",
        "print(\"str.index('l')  : \", str.index('l'))\n",
        "print(\"str.find('Q')   : \", str.find('Q'))\n",
        "print(\"str.index('Q')  :  error \")\n",
        "\n",
        "#join: 문자 사이에 입력한 문자를 삽입\n",
        "print(\"str.join(str2)  : \", str2.join(list(str.split())))\n",
        "\n"
      ],
      "metadata": {
        "colab": {
          "base_uri": "https://localhost:8080/"
        },
        "id": "1N9_7HPCE41v",
        "outputId": "a04bedad-afb9-4bac-eee2-97a774bdb4da"
      },
      "execution_count": 4,
      "outputs": [
        {
          "output_type": "stream",
          "name": "stdout",
          "text": [
            "str.count('i')  :  2\n",
            "str.count('Fn') :  0\n",
            "str.find('F')   :  11\n",
            "str.index('l')  :  5\n",
            "str.find('Q')   :  -1\n",
            "str.index('Q')  :  error \n",
            "str.join(str2)  :  built_In_Function\n"
          ]
        }
      ]
    },
    {
      "cell_type": "code",
      "source": [
        "#upper: 대문자를 반환\n",
        "print(\"str.upper()    : \", str.upper())\n",
        "#lower: 소문자 반환\n",
        "print(\"str.lower()    : \", str.lower())\n",
        "\n",
        "#replace: 문자열 변환\n",
        "print(\"str.replace('In', 'Out') : \", str.replace('In', \"Out\"))\n",
        "\n",
        "#split: str로 잘라서 반환, 빈칸인 경우 띄어쓰기\n",
        "print(\"str.split()  : \", str.split())\n",
        "\n",
        "#lstrip: 좌측 공백 제거\n",
        "print(\"str.lstrip() : \", str.lstrip())\n",
        "#rstrip: 우측 공백 제거\n",
        "print(\"str.rstrip() : \", str.rstrip())\n",
        "#trip: 좌우측 공백 제거\n",
        "print(\"str.strip()  : \", str.strip())"
      ],
      "metadata": {
        "colab": {
          "base_uri": "https://localhost:8080/"
        },
        "id": "oCwmIqh0E5Wu",
        "outputId": "6ac4069b-d519-4ad7-b6b5-070049fafaf2"
      },
      "execution_count": 7,
      "outputs": [
        {
          "output_type": "stream",
          "name": "stdout",
          "text": [
            "str.upper()    :    BUILT IN FUNCTION  \n",
            "str.lower()    :    built in function  \n",
            "str.replace('In', 'Out') :    built Out Function  \n",
            "str.split()  :  ['built', 'In', 'Function']\n",
            "str.lstrip() :  built In Function  \n",
            "str.rstrip() :    built In Function\n",
            "str.strip()  :  built In Function\n"
          ]
        }
      ]
    },
    {
      "cell_type": "code",
      "source": [
        "#abs함수 : 절댓값을 반환하는 함수\n",
        "\n",
        "print(abs(3))\n",
        "\n",
        "print(abs(-3))\n",
        "\n",
        "#len함수 : 입력값 s의 길이를 리턴하는 함수이다.\n",
        "\n",
        "print(len(\"Python\"))\n",
        "\n",
        "#max함수 : 반복 가능한 자료형을 입력받아 그 최대값을 리턴하는 함수이다.\n",
        "\n",
        "print(max([1,2,3]))\n",
        "\n",
        "#min함수 : 반복 가능한 자료형을 입력받아 그 최소값을 리턴하는 함수이다.\n",
        "\n",
        "print(min([1,2,3]))\n",
        "\n",
        "#ord함수 : 문자의 아스키 코드값을 리턴하는 함수 chr과는 반대\n",
        "\n",
        "print(ord('a'))\n",
        "\n",
        "#pow함수 : pow(x,y) x의 y제곱한 결과값을 리턴하는 함수\n",
        "\n",
        "print(pow(2,4))\n",
        "\n",
        "#range함수 : 이 함수는 입력받은 숫자에 해당되는 범위의 값을 반복가능한 객체로 만들어 리턴한다.\n",
        "print(list(range(5)))\n",
        "\n"
      ],
      "metadata": {
        "colab": {
          "base_uri": "https://localhost:8080/"
        },
        "id": "hgauaFx_E5ZH",
        "outputId": "cddd0a8a-85df-4698-e511-086787ee663e"
      },
      "execution_count": 9,
      "outputs": [
        {
          "output_type": "stream",
          "name": "stdout",
          "text": [
            "3\n",
            "3\n",
            "6\n",
            "3\n",
            "1\n",
            "97\n",
            "16\n",
            "[0, 1, 2, 3, 4]\n"
          ]
        }
      ]
    },
    {
      "cell_type": "code",
      "source": [
        "\n",
        "#divmod함수 :(a,b) 2개의 숫자를 입력으로 받아 a를 b로 나눈 몫과 나머지를 튜플 형태로 리턴\n",
        "print(divmod(7,3))\n",
        "\n",
        "#eval함수 : 실행 가능한 문자열을 입력으로 받아 문자열을 실행한 결과값을 리턴하는 함수이다.\n",
        "print(eval('1+2'))\n",
        "\n",
        "#dir함수 : 객체가 자체적으로 가지고 있는 변수나 함수를 보여준다\n",
        "print(dir([1,2,3]))\n",
        "\n",
        "#lambda함수 : 함수를 생성할 때 사용하는 예약어로, def와 동일한 역할을 한다.\n",
        "sum=lambda a,b:a+b\n",
        "print(sum(3,4))"
      ],
      "metadata": {
        "colab": {
          "base_uri": "https://localhost:8080/"
        },
        "id": "JrqURCDmE5bT",
        "outputId": "372ab17a-f45e-49f4-891c-dada3f97ae89"
      },
      "execution_count": 12,
      "outputs": [
        {
          "output_type": "stream",
          "name": "stdout",
          "text": [
            "(2, 1)\n",
            "3\n",
            "['__add__', '__class__', '__contains__', '__delattr__', '__delitem__', '__dir__', '__doc__', '__eq__', '__format__', '__ge__', '__getattribute__', '__getitem__', '__gt__', '__hash__', '__iadd__', '__imul__', '__init__', '__init_subclass__', '__iter__', '__le__', '__len__', '__lt__', '__mul__', '__ne__', '__new__', '__reduce__', '__reduce_ex__', '__repr__', '__reversed__', '__rmul__', '__setattr__', '__setitem__', '__sizeof__', '__str__', '__subclasshook__', 'append', 'clear', 'copy', 'count', 'extend', 'index', 'insert', 'pop', 'remove', 'reverse', 'sort']\n",
            "7\n"
          ]
        }
      ]
    },
    {
      "cell_type": "code",
      "source": [
        "#hex함수 : 정수값을 입력받아 16진수로 변환하여 리턴하는 함수이다.\n",
        "print(hex(234))\n",
        "\n",
        "#oct함수 : 정수 형태의 숫자를 8진수 문자열로 바꾸어 리턴하는 함수이다.\n",
        "print(oct(34))\n",
        "\n",
        "#ord함수 : 문자의 아스키 코드값을 리턴하는 함수 chr과는 반대\n",
        "print(ord('a'))"
      ],
      "metadata": {
        "colab": {
          "base_uri": "https://localhost:8080/"
        },
        "id": "M2W8hr5ZE5eD",
        "outputId": "15c88181-35c6-4764-af4a-1bd88d54ccbf"
      },
      "execution_count": 13,
      "outputs": [
        {
          "output_type": "stream",
          "name": "stdout",
          "text": [
            "0xea\n",
            "0o42\n",
            "97\n"
          ]
        }
      ]
    }
  ]
}