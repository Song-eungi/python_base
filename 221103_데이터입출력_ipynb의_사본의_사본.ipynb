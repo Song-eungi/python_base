{
  "cells": [
    {
      "cell_type": "markdown",
      "metadata": {
        "id": "view-in-github",
        "colab_type": "text"
      },
      "source": [
        "<a href=\"https://colab.research.google.com/github/Song-eungi/python_base/blob/main/221103_%EB%8D%B0%EC%9D%B4%ED%84%B0%EC%9E%85%EC%B6%9C%EB%A0%A5_ipynb%EC%9D%98_%EC%82%AC%EB%B3%B8%EC%9D%98_%EC%82%AC%EB%B3%B8.ipynb\" target=\"_parent\"><img src=\"https://colab.research.google.com/assets/colab-badge.svg\" alt=\"Open In Colab\"/></a>"
      ]
    },
    {
      "cell_type": "markdown",
      "id": "5418a5a8",
      "metadata": {
        "id": "5418a5a8"
      },
      "source": [
        "### ( 데이터 출력 )"
      ]
    },
    {
      "cell_type": "code",
      "execution_count": null,
      "id": "5dacb011",
      "metadata": {
        "id": "5dacb011"
      },
      "outputs": [],
      "source": [
        "# 데이터 출력 1\n",
        "\n",
        "fp = open(\"c:/jswoo/fruit.txt\", \"wt\")\n",
        "fp\n",
        "\n",
        "fruit_price = {\"ap\":3500, \"pe\":2500, \"ch\":5000}\n",
        "\n",
        "for item in fruit_price.items():\n",
        "    print(item, file=fp)\n",
        "    \n",
        "fp.close()"
      ]
    },
    {
      "cell_type": "code",
      "execution_count": null,
      "id": "1cea25b5",
      "metadata": {
        "id": "1cea25b5"
      },
      "outputs": [],
      "source": [
        "# 데이터 출력 2\n",
        "# \\n 화이트스페이스 \n",
        "fp = open(\"c:/jswoo/fruit2.txt\", \"wt\")\n",
        "fp.write(\"ap 3500\\n\")\n",
        "fp.write(\"pe 2500\\n\")\n",
        "fp.write(\"ch 5000\\n\")\n",
        "fp.close()"
      ]
    },
    {
      "cell_type": "code",
      "execution_count": null,
      "id": "3a7abc29",
      "metadata": {
        "id": "3a7abc29"
      },
      "outputs": [],
      "source": [
        "# 데이터 출력 3\n",
        "fp = open(\"c:/jswoo/fruit3.txt\", \"wt\")\n",
        "fp.write(\"ap 3500\")\n",
        "fp.write(\"pe 2500\")\n",
        "fp.write(\"ch 5000\")\n",
        "fp.close()"
      ]
    },
    {
      "cell_type": "code",
      "execution_count": null,
      "id": "2c8c70b2",
      "metadata": {
        "id": "2c8c70b2"
      },
      "outputs": [],
      "source": [
        "# 데이터 출력 4\n",
        "fp = open(\"c:/jswoo/fruit4.txt\", \"wt\")\n",
        "fp.write(\"ap 3500\\t\")\n",
        "fp.write(\"pe 2500\\t\")\n",
        "fp.write(\"ch 5000\\t\")\n",
        "fp.close()"
      ]
    },
    {
      "cell_type": "code",
      "execution_count": null,
      "id": "1b528131",
      "metadata": {
        "id": "1b528131"
      },
      "outputs": [],
      "source": []
    },
    {
      "cell_type": "code",
      "execution_count": null,
      "id": "fea3db40",
      "metadata": {
        "id": "fea3db40"
      },
      "outputs": [],
      "source": [
        "# 데이터 출력 5, csv 형식 출력\n",
        "\n",
        "import csv\n",
        "\n",
        "with open(\"c:/jswoo/fruit5.csv\",\"w\",newline=\"\") as fp:\n",
        "    writer = csv.writer(fp, delimiter=\",\") \n",
        "    writer.writerow([\"ap\"])\n",
        "    writer.writerow([\"pe\"])\n",
        "    writer.writerow([\"ch\"])\n",
        "    writer.writerow([\"ba\"])"
      ]
    },
    {
      "cell_type": "code",
      "execution_count": null,
      "id": "f1089c6d",
      "metadata": {
        "id": "f1089c6d"
      },
      "outputs": [],
      "source": []
    },
    {
      "cell_type": "markdown",
      "id": "3246d0d0",
      "metadata": {
        "id": "3246d0d0"
      },
      "source": [
        "### ( 화일 읽기 )"
      ]
    },
    {
      "cell_type": "code",
      "execution_count": null,
      "id": "c4a5f996",
      "metadata": {
        "id": "c4a5f996",
        "outputId": "91087e30-43a9-4dc1-a5df-e9b42e52b6b3"
      },
      "outputs": [
        {
          "data": {
            "text/plain": [
              "[\"('ap', 3500)\\n\", \"('pe', 2500)\\n\", \"('ch', 5000)\\n\"]"
            ]
          },
          "execution_count": 15,
          "metadata": {},
          "output_type": "execute_result"
        }
      ],
      "source": [
        "fp = open(\"c:/jswoo/fruit.txt\",\"rt\")\n",
        "fp.readlines()"
      ]
    },
    {
      "cell_type": "code",
      "execution_count": null,
      "id": "1a410dcf",
      "metadata": {
        "id": "1a410dcf",
        "outputId": "c180fc59-44c8-4ef0-d382-d3ff815fea6a"
      },
      "outputs": [
        {
          "data": {
            "text/plain": [
              "<_io.TextIOWrapper name='c:/jswoo/fruit.txt' mode='rt' encoding='cp949'>"
            ]
          },
          "execution_count": 16,
          "metadata": {},
          "output_type": "execute_result"
        }
      ],
      "source": [
        "fp"
      ]
    },
    {
      "cell_type": "code",
      "execution_count": null,
      "id": "b79fa327",
      "metadata": {
        "id": "b79fa327"
      },
      "outputs": [],
      "source": []
    },
    {
      "cell_type": "code",
      "execution_count": null,
      "id": "97ed2a28",
      "metadata": {
        "id": "97ed2a28"
      },
      "outputs": [],
      "source": [
        "##  csv 화일 읽기\n",
        "\n",
        "import csv\n",
        "fp = open(\"c:/jswoo/fruit5.csv\",\"rt\")"
      ]
    },
    {
      "cell_type": "code",
      "execution_count": null,
      "id": "d1da2688",
      "metadata": {
        "id": "d1da2688",
        "outputId": "ef24b2d6-87ee-4533-b08b-cbc01aa5f241"
      },
      "outputs": [
        {
          "name": "stdout",
          "output_type": "stream",
          "text": [
            "['ap']\n",
            "['pe']\n",
            "['ch']\n",
            "['ba']\n"
          ]
        }
      ],
      "source": [
        "csvread = csv.reader(fp) \n",
        "\n",
        "fruit = []\n",
        "for i in csvread:\n",
        "    fruit.append(csvread)\n",
        "    print(i)"
      ]
    },
    {
      "cell_type": "code",
      "execution_count": null,
      "id": "31c7658e",
      "metadata": {
        "id": "31c7658e"
      },
      "outputs": [],
      "source": []
    },
    {
      "cell_type": "code",
      "execution_count": null,
      "id": "a20ca89a",
      "metadata": {
        "id": "a20ca89a"
      },
      "outputs": [],
      "source": []
    },
    {
      "cell_type": "code",
      "execution_count": null,
      "id": "794b2d6d",
      "metadata": {
        "id": "794b2d6d"
      },
      "outputs": [],
      "source": []
    },
    {
      "cell_type": "code",
      "execution_count": null,
      "id": "96a346ca",
      "metadata": {
        "id": "96a346ca"
      },
      "outputs": [],
      "source": []
    }
  ],
  "metadata": {
    "kernelspec": {
      "display_name": "Python 3 (ipykernel)",
      "language": "python",
      "name": "python3"
    },
    "language_info": {
      "codemirror_mode": {
        "name": "ipython",
        "version": 3
      },
      "file_extension": ".py",
      "mimetype": "text/x-python",
      "name": "python",
      "nbconvert_exporter": "python",
      "pygments_lexer": "ipython3",
      "version": "3.9.13"
    },
    "colab": {
      "provenance": [],
      "include_colab_link": true
    }
  },
  "nbformat": 4,
  "nbformat_minor": 5
}