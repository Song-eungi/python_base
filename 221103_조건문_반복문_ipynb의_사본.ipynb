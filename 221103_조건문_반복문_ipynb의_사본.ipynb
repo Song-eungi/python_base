{
  "cells": [
    {
      "cell_type": "markdown",
      "metadata": {
        "id": "view-in-github",
        "colab_type": "text"
      },
      "source": [
        "<a href=\"https://colab.research.google.com/github/Song-eungi/python_base/blob/main/221103_%EC%A1%B0%EA%B1%B4%EB%AC%B8_%EB%B0%98%EB%B3%B5%EB%AC%B8_ipynb%EC%9D%98_%EC%82%AC%EB%B3%B8.ipynb\" target=\"_parent\"><img src=\"https://colab.research.google.com/assets/colab-badge.svg\" alt=\"Open In Colab\"/></a>"
      ]
    },
    {
      "cell_type": "markdown",
      "id": "e237ac6f",
      "metadata": {
        "id": "e237ac6f"
      },
      "source": [
        "## 연산자 실습 필요 "
      ]
    },
    {
      "cell_type": "code",
      "execution_count": null,
      "id": "9db99cf4",
      "metadata": {
        "id": "9db99cf4"
      },
      "outputs": [],
      "source": []
    },
    {
      "cell_type": "markdown",
      "id": "4c04a50b",
      "metadata": {
        "id": "4c04a50b"
      },
      "source": [
        "### ( 조건문 ) "
      ]
    },
    {
      "cell_type": "markdown",
      "id": "9a9d41a0",
      "metadata": {
        "id": "9a9d41a0"
      },
      "source": [
        "1. if Then "
      ]
    },
    {
      "cell_type": "code",
      "execution_count": null,
      "id": "a3bbf26d",
      "metadata": {
        "id": "a3bbf26d",
        "outputId": "c5815fec-d6d7-4281-95fc-dcdb0726f271"
      },
      "outputs": [
        {
          "name": "stdout",
          "output_type": "stream",
          "text": [
            "T\n"
          ]
        }
      ],
      "source": [
        "python = True\n",
        "if python:\n",
        "    print(\"T\")"
      ]
    },
    {
      "cell_type": "markdown",
      "id": "c98f18cf",
      "metadata": {
        "id": "c98f18cf"
      },
      "source": [
        "2.if Then  Else"
      ]
    },
    {
      "cell_type": "code",
      "execution_count": null,
      "id": "97fc75f0",
      "metadata": {
        "id": "97fc75f0",
        "outputId": "97ccf782-0c11-4046-8824-bb98b9d39f73"
      },
      "outputs": [
        {
          "name": "stdout",
          "output_type": "stream",
          "text": [
            "True\n"
          ]
        }
      ],
      "source": [
        "python = True\n",
        "if python:\n",
        "    print(\"True\")\n",
        "else:\n",
        "    print(\"False\")"
      ]
    },
    {
      "cell_type": "code",
      "execution_count": null,
      "id": "e4e31f23",
      "metadata": {
        "id": "e4e31f23",
        "outputId": "cb728342-00ac-45e9-b9d6-6c44d40d60e1"
      },
      "outputs": [
        {
          "name": "stdout",
          "output_type": "stream",
          "text": [
            "True\n"
          ]
        }
      ],
      "source": [
        "python = -1\n",
        "if python:\n",
        "    print(\"True\")\n",
        "else:\n",
        "    print(\"False\")"
      ]
    },
    {
      "cell_type": "code",
      "execution_count": null,
      "id": "e82055d4",
      "metadata": {
        "id": "e82055d4",
        "outputId": "8a57c598-db05-429c-d198-c928d237127e"
      },
      "outputs": [
        {
          "ename": "IndentationError",
          "evalue": "unindent does not match any outer indentation level (<tokenize>, line 5)",
          "output_type": "error",
          "traceback": [
            "\u001b[1;36m  File \u001b[1;32m\"<tokenize>\"\u001b[1;36m, line \u001b[1;32m5\u001b[0m\n\u001b[1;33m    print(\"11111\")\u001b[0m\n\u001b[1;37m    ^\u001b[0m\n\u001b[1;31mIndentationError\u001b[0m\u001b[1;31m:\u001b[0m unindent does not match any outer indentation level\n"
          ]
        }
      ],
      "source": [
        "python = True\n",
        "pycharm = True\n",
        "if python:\n",
        "    print(\"1st True\")\n",
        "    print(\"11111\")\n",
        "elif pycharm:\n",
        "    print(\"1st False, 2nd True\")\n",
        "else:\n",
        "    print(\"False\") "
      ]
    },
    {
      "cell_type": "code",
      "execution_count": null,
      "id": "eddbca93",
      "metadata": {
        "id": "eddbca93"
      },
      "outputs": [],
      "source": []
    },
    {
      "cell_type": "markdown",
      "id": "208a49dc",
      "metadata": {
        "id": "208a49dc"
      },
      "source": [
        "### (실습_01.  조건문 홀수 짝수 판별 ) \n",
        "- 화면에서 숫자를 입력 받아 변수 x에 저장한다\n",
        "- 입력받은 숫자가 홀수면 \"홀수\", 짝수면 \"짝수를 출력 \n",
        "- 출력예)  3은 홀수 입니다. \n"
      ]
    },
    {
      "cell_type": "code",
      "execution_count": null,
      "id": "578c7443",
      "metadata": {
        "id": "578c7443",
        "outputId": "f7e61136-c236-4a34-974b-3868f3f57b86"
      },
      "outputs": [
        {
          "name": "stdout",
          "output_type": "stream",
          "text": [
            "숫자? 13\n"
          ]
        }
      ],
      "source": [
        "# 화면에서 입력 받을 때 \n",
        "x = int(input(\"숫자? \"))"
      ]
    },
    {
      "cell_type": "code",
      "execution_count": null,
      "id": "51e39a43",
      "metadata": {
        "id": "51e39a43",
        "outputId": "f757d546-af31-4c92-a956-2d68f43ce04d"
      },
      "outputs": [
        {
          "data": {
            "text/plain": [
              "int"
            ]
          },
          "execution_count": 25,
          "metadata": {},
          "output_type": "execute_result"
        }
      ],
      "source": [
        "type(x)"
      ]
    },
    {
      "cell_type": "code",
      "execution_count": null,
      "id": "f5d542d5",
      "metadata": {
        "id": "f5d542d5",
        "outputId": "7488c515-38ed-44b0-b519-ce005f0463c6"
      },
      "outputs": [
        {
          "name": "stdout",
          "output_type": "stream",
          "text": [
            "13 는 홀수\n"
          ]
        }
      ],
      "source": [
        "if (x%2 ==0):\n",
        "    print(x, \"는 짝수\")\n",
        "else:\n",
        "    print(x, \"는 홀수\")"
      ]
    },
    {
      "cell_type": "code",
      "execution_count": null,
      "id": "292dac06",
      "metadata": {
        "id": "292dac06",
        "outputId": "f6d6992c-cf95-4da4-f712-7f2f9c57f9f1"
      },
      "outputs": [
        {
          "name": "stdout",
          "output_type": "stream",
          "text": [
            "13 는 홀수\n"
          ]
        }
      ],
      "source": [
        "if (x%2 ==1):\n",
        "    print(x, \"는 홀수\")\n",
        "else:\n",
        "    print(x, \"는 짝수\")"
      ]
    },
    {
      "cell_type": "code",
      "execution_count": null,
      "id": "ff00e639",
      "metadata": {
        "id": "ff00e639",
        "outputId": "87ff54cc-61cb-4cd2-dbc8-61dbfd18552d"
      },
      "outputs": [
        {
          "name": "stdout",
          "output_type": "stream",
          "text": [
            "13 는 홀수\n"
          ]
        }
      ],
      "source": [
        "if (x%2 != 0):\n",
        "    print(x, \"는 홀수\")\n",
        "else:\n",
        "    print(x, \"는 짝수\")"
      ]
    },
    {
      "cell_type": "code",
      "execution_count": null,
      "id": "782f421a",
      "metadata": {
        "id": "782f421a"
      },
      "outputs": [],
      "source": []
    },
    {
      "cell_type": "markdown",
      "id": "74b309da",
      "metadata": {
        "id": "74b309da"
      },
      "source": [
        "### (실습_02.  성적 등급 판정  ) \n",
        "- 화면에서 성적을 입력 받아 변수 score에 저장 \n",
        "- 입력받은 숫자가\n",
        "  + 80점 이상이면 \"A\"등급 \n",
        "  + 70점 이상 ~ 80점 미만이면 \"B\" 등급\n",
        "  + 60점 이상 ~ 70점 미만이면 \"C\" 등급\n",
        "  + 60점 미만이면 \"D\" 등급 \n",
        "- 출력 예)  점수는 50점, 등급은 D등급"
      ]
    },
    {
      "cell_type": "code",
      "execution_count": null,
      "id": "46138c7d",
      "metadata": {
        "id": "46138c7d",
        "outputId": "2ba53cac-6668-4f6b-efee-88e0864b238a"
      },
      "outputs": [
        {
          "name": "stdout",
          "output_type": "stream",
          "text": [
            "점수? 77\n"
          ]
        }
      ],
      "source": [
        "score = int(input(\"점수? \"))"
      ]
    },
    {
      "cell_type": "code",
      "execution_count": null,
      "id": "949ab01e",
      "metadata": {
        "id": "949ab01e",
        "outputId": "94a7f64e-31e3-4fe5-a9e6-c9e9717be504"
      },
      "outputs": [
        {
          "name": "stdout",
          "output_type": "stream",
          "text": [
            "점수는  77 점, 등급은 =  B 등급\n"
          ]
        }
      ],
      "source": [
        "if score > 80:\n",
        "    degree = \"A\"\n",
        "elif score > 70:\n",
        "    degree = \"B\"\n",
        "elif score > 60:\n",
        "    degree = \"C\"\n",
        "else:\n",
        "    degree = \"D\"\n",
        "    \n",
        "print(\"점수는 \", score, \"점, 등급은 = \", degree, \"등급\")"
      ]
    },
    {
      "cell_type": "code",
      "execution_count": null,
      "id": "613de001",
      "metadata": {
        "id": "613de001",
        "outputId": "7f1db806-b10f-4c9a-ff58-f4cceec1d816"
      },
      "outputs": [
        {
          "name": "stdout",
          "output_type": "stream",
          "text": [
            "점수는  77 점, 등급은 =  B 등급\n"
          ]
        }
      ],
      "source": [
        "if score >= 80:\n",
        "    degree = \"A\"\n",
        "elif (score > 60 and score <=70):\n",
        "    degree = \"C\"\n",
        "elif (score > 70 and score <=80):\n",
        "    degree = \"B\"\n",
        "else:\n",
        "    degree = \"D\"\n",
        "    \n",
        "print(\"점수는 \", score, \"점, 등급은 = \", degree, \"등급\")"
      ]
    },
    {
      "cell_type": "code",
      "execution_count": null,
      "id": "85935458",
      "metadata": {
        "id": "85935458"
      },
      "outputs": [],
      "source": []
    },
    {
      "cell_type": "markdown",
      "id": "e9307674",
      "metadata": {
        "id": "e9307674"
      },
      "source": [
        "### ( 반복문) "
      ]
    },
    {
      "cell_type": "code",
      "execution_count": null,
      "id": "9fff563f",
      "metadata": {
        "id": "9fff563f",
        "outputId": "45fa7c95-e3de-43e5-e376-b20429a268d2"
      },
      "outputs": [
        {
          "name": "stdout",
          "output_type": "stream",
          "text": [
            "1\n",
            "2\n",
            "3\n",
            "4\n"
          ]
        }
      ],
      "source": [
        "print(1)\n",
        "print(2)\n",
        "print(3)\n",
        "print(4)"
      ]
    },
    {
      "cell_type": "code",
      "execution_count": null,
      "id": "7fea0ed1",
      "metadata": {
        "id": "7fea0ed1",
        "outputId": "bcb34314-1ca8-4444-bf51-a2b33e0d513e"
      },
      "outputs": [
        {
          "name": "stdout",
          "output_type": "stream",
          "text": [
            "1\n",
            "2\n",
            "3\n",
            "4\n",
            "5\n",
            "6\n",
            "7\n",
            "8\n",
            "9\n"
          ]
        }
      ],
      "source": [
        "for i in range(1,10):\n",
        "    print(i)"
      ]
    },
    {
      "cell_type": "code",
      "execution_count": null,
      "id": "a7e6a102",
      "metadata": {
        "id": "a7e6a102",
        "outputId": "3043b711-c35c-41ed-d093-6f2f55b7b868"
      },
      "outputs": [
        {
          "data": {
            "text/plain": [
              "[1, 2, 3, 4, 5, 6, 7, 8, 9]"
            ]
          },
          "execution_count": 38,
          "metadata": {},
          "output_type": "execute_result"
        }
      ],
      "source": [
        "list(range(1,10))"
      ]
    },
    {
      "cell_type": "code",
      "execution_count": null,
      "id": "e32de875",
      "metadata": {
        "id": "e32de875",
        "outputId": "eb8495b7-ea05-469a-f44a-08fa0f6544a9"
      },
      "outputs": [
        {
          "data": {
            "text/plain": [
              "[1, 3, 5, 7, 9]"
            ]
          },
          "execution_count": 40,
          "metadata": {},
          "output_type": "execute_result"
        }
      ],
      "source": [
        "list(range(1,10,2))"
      ]
    },
    {
      "cell_type": "code",
      "execution_count": null,
      "id": "80358398",
      "metadata": {
        "id": "80358398"
      },
      "outputs": [],
      "source": []
    },
    {
      "cell_type": "code",
      "execution_count": null,
      "id": "6f8c6210",
      "metadata": {
        "id": "6f8c6210"
      },
      "outputs": [],
      "source": [
        "fruit = [\"ap\",\"pe\",\"ch\"]"
      ]
    },
    {
      "cell_type": "code",
      "execution_count": null,
      "id": "bc24a2b0",
      "metadata": {
        "id": "bc24a2b0",
        "outputId": "519588e7-9a63-4ba9-f156-11600470a40c"
      },
      "outputs": [
        {
          "data": {
            "text/plain": [
              "'ap'"
            ]
          },
          "execution_count": 42,
          "metadata": {},
          "output_type": "execute_result"
        }
      ],
      "source": [
        "fruit[0]"
      ]
    },
    {
      "cell_type": "code",
      "execution_count": null,
      "id": "e1f5569f",
      "metadata": {
        "id": "e1f5569f",
        "outputId": "001fd662-9a73-48ae-ebc8-75bca051085f"
      },
      "outputs": [
        {
          "data": {
            "text/plain": [
              "'pe'"
            ]
          },
          "execution_count": 43,
          "metadata": {},
          "output_type": "execute_result"
        }
      ],
      "source": [
        "fruit[1]"
      ]
    },
    {
      "cell_type": "code",
      "execution_count": null,
      "id": "1d4297fa",
      "metadata": {
        "id": "1d4297fa",
        "outputId": "b0fa3e74-b41e-4ac9-c90d-b891ae8da2b5"
      },
      "outputs": [
        {
          "name": "stdout",
          "output_type": "stream",
          "text": [
            "ap\n",
            "pe\n",
            "ch\n"
          ]
        }
      ],
      "source": [
        "for i in fruit:\n",
        "    print(i)"
      ]
    },
    {
      "cell_type": "code",
      "execution_count": null,
      "id": "e3c64fd6",
      "metadata": {
        "id": "e3c64fd6"
      },
      "outputs": [],
      "source": []
    },
    {
      "cell_type": "code",
      "execution_count": null,
      "id": "9400dccf",
      "metadata": {
        "id": "9400dccf"
      },
      "outputs": [],
      "source": [
        "fruit_dict = {\"ap\":3500, \"pe\":2500, \"ch\":5000}"
      ]
    },
    {
      "cell_type": "code",
      "execution_count": null,
      "id": "93c07b5e",
      "metadata": {
        "id": "93c07b5e",
        "outputId": "ba8a6dd3-cb23-471b-8f91-d0f5311dae71"
      },
      "outputs": [
        {
          "data": {
            "text/plain": [
              "dict_keys(['ap', 'pe', 'ch'])"
            ]
          },
          "execution_count": 46,
          "metadata": {},
          "output_type": "execute_result"
        }
      ],
      "source": [
        "# 과일명만 출력할때\n",
        "fruit_dict.keys()"
      ]
    },
    {
      "cell_type": "code",
      "execution_count": null,
      "id": "f6b46212",
      "metadata": {
        "id": "f6b46212",
        "outputId": "02ee7307-a2b8-4c5e-ef54-7639fbdc8c94"
      },
      "outputs": [
        {
          "name": "stdout",
          "output_type": "stream",
          "text": [
            "ap\n",
            "pe\n",
            "ch\n"
          ]
        }
      ],
      "source": [
        "for i in fruit_dict.keys():\n",
        "    print(i)"
      ]
    },
    {
      "cell_type": "code",
      "execution_count": null,
      "id": "c7f0774b",
      "metadata": {
        "id": "c7f0774b"
      },
      "outputs": [],
      "source": [
        "## 과일가격만 출력 할때"
      ]
    },
    {
      "cell_type": "code",
      "execution_count": null,
      "id": "01107a92",
      "metadata": {
        "id": "01107a92",
        "outputId": "76183226-6283-4fda-f580-f6fdbec879b3"
      },
      "outputs": [
        {
          "name": "stdout",
          "output_type": "stream",
          "text": [
            "3500\n",
            "2500\n",
            "5000\n"
          ]
        }
      ],
      "source": [
        "for i in fruit_dict.values():\n",
        "    print(i)"
      ]
    },
    {
      "cell_type": "code",
      "execution_count": null,
      "id": "ba55f35b",
      "metadata": {
        "id": "ba55f35b"
      },
      "outputs": [],
      "source": []
    },
    {
      "cell_type": "code",
      "execution_count": null,
      "id": "40abad31",
      "metadata": {
        "id": "40abad31"
      },
      "outputs": [],
      "source": []
    },
    {
      "cell_type": "markdown",
      "id": "2ad2c5df",
      "metadata": {
        "id": "2ad2c5df"
      },
      "source": [
        "### ( 실습. 리스트 반복문 )\n",
        "- score = [60, 73, 65, 89]\n",
        "- 채점 \n",
        "   + 80 보다 크면 \"A\"\n",
        "   + 70 보다 크고 80보다 작거나 같으면 \"B\"\n",
        "   + 60 보다 크고 70보다 작거나 같으면 \"C\" \n",
        "   + 60 보다 작으면 \"D\" \n",
        "- 출력 ->  1번 학생 점수는 60점, 등급은 D등급 "
      ]
    },
    {
      "cell_type": "code",
      "execution_count": null,
      "id": "d03e449a",
      "metadata": {
        "id": "d03e449a",
        "outputId": "0f3e34d7-8fed-457a-c609-4ebccd2c49f7"
      },
      "outputs": [
        {
          "name": "stdout",
          "output_type": "stream",
          "text": [
            "1 학생의 점수는  60 점, 등급은 =  D 등급\n",
            "2 학생의 점수는  73 점, 등급은 =  B 등급\n",
            "3 학생의 점수는  65 점, 등급은 =  C 등급\n",
            "4 학생의 점수는  89 점, 등급은 =  A 등급\n"
          ]
        }
      ],
      "source": [
        "scores = [60, 73, 65, 89]\n",
        "\n",
        "no = 0\n",
        "\n",
        "for score in scores: \n",
        "\n",
        "    if score >= 80:\n",
        "        degree = \"A\"\n",
        "    elif (score > 60 and score <=70):\n",
        "        degree = \"C\"\n",
        "    elif (score > 70 and score <=80):\n",
        "        degree = \"B\"\n",
        "    else:\n",
        "        degree = \"D\"\n",
        "        \n",
        "    no = no + 1\n",
        "\n",
        "    print(no, \"학생의 점수는 \", score, \"점, 등급은 = \", degree, \"등급\")\n",
        "\n",
        "#    break \n"
      ]
    },
    {
      "cell_type": "code",
      "execution_count": null,
      "id": "4fc7b4f8",
      "metadata": {
        "id": "4fc7b4f8"
      },
      "outputs": [],
      "source": [
        "scores = [60, 73, 65, 89]\n",
        "\n",
        "no = 0\n",
        "\n",
        "for score in enumerate(scores): \n",
        "\n",
        "    if score >= 80:\n",
        "        degree = \"A\"\n",
        "    elif (score > 60 and score <=70):\n",
        "        degree = \"C\"\n",
        "    elif (score > 70 and score <=80):\n",
        "        degree = \"B\"\n",
        "    else:\n",
        "        degree = \"D\"\n",
        "        \n",
        "    no = no + 1\n",
        "\n",
        "    print(no, \"학생의 점수는 \", score, \"점, 등급은 = \", degree, \"등급\")\n",
        "\n",
        "#    break \n"
      ]
    },
    {
      "cell_type": "code",
      "execution_count": null,
      "id": "5bf03fc6",
      "metadata": {
        "id": "5bf03fc6",
        "outputId": "1eb411f2-1139-442a-c6da-037555bf31d4"
      },
      "outputs": [
        {
          "name": "stdout",
          "output_type": "stream",
          "text": [
            "1 =  (0, 60)\n",
            "no= 0  score= 60\n",
            "2 =  60\n",
            "1 =  (1, 73)\n",
            "no= 1  score= 73\n",
            "2 =  73\n",
            "1 =  (2, 65)\n",
            "no= 2  score= 65\n",
            "2 =  65\n",
            "1 =  (3, 89)\n",
            "no= 3  score= 89\n",
            "2 =  89\n"
          ]
        }
      ],
      "source": [
        "for score in enumerate(scores):\n",
        "    print(\"1 = \", score)\n",
        "    no = score[0]\n",
        "    score = score[1]\n",
        "    print(\"no=\", no, \" score=\", score)\n",
        "    print(\"2 = \", score)"
      ]
    },
    {
      "cell_type": "code",
      "execution_count": null,
      "id": "6985d808",
      "metadata": {
        "id": "6985d808",
        "outputId": "a0631cb6-4ef2-4129-d9ac-cad54025d7d1"
      },
      "outputs": [
        {
          "name": "stdout",
          "output_type": "stream",
          "text": [
            "no= 0  score= 60\n",
            "no= 1  score= 73\n",
            "no= 2  score= 65\n",
            "no= 3  score= 89\n"
          ]
        }
      ],
      "source": [
        "for no, score in enumerate(scores):\n",
        "    print(\"no=\", no, \" score=\", score)"
      ]
    },
    {
      "cell_type": "code",
      "execution_count": null,
      "id": "2069d52c",
      "metadata": {
        "id": "2069d52c",
        "outputId": "12db9eb1-7742-4476-b927-75bbef44b735"
      },
      "outputs": [
        {
          "name": "stdout",
          "output_type": "stream",
          "text": [
            "0 학생의 점수는  60 점, 등급은 =  D 등급\n",
            "1 학생의 점수는  73 점, 등급은 =  B 등급\n",
            "2 학생의 점수는  65 점, 등급은 =  C 등급\n",
            "3 학생의 점수는  89 점, 등급은 =  A 등급\n"
          ]
        }
      ],
      "source": [
        "scores = [60, 73, 65, 89]\n",
        "\n",
        "for no, score in enumerate(scores): \n",
        "\n",
        "    if score >= 80:\n",
        "        degree = \"A\"\n",
        "    elif (score > 60 and score <=70):\n",
        "        degree = \"C\"\n",
        "    elif (score > 70 and score <=80):\n",
        "        degree = \"B\"\n",
        "    else:\n",
        "        degree = \"D\"\n",
        "\n",
        "    print(no, \"학생의 점수는 \", score, \"점, 등급은 = \", degree, \"등급\")"
      ]
    },
    {
      "cell_type": "code",
      "execution_count": null,
      "id": "d1c98607",
      "metadata": {
        "id": "d1c98607"
      },
      "outputs": [],
      "source": []
    },
    {
      "cell_type": "markdown",
      "id": "a8c0c88b",
      "metadata": {
        "id": "a8c0c88b"
      },
      "source": [
        "### ( 과일 가격 찾기 )\n",
        "- fruit_dict = {\"ap\":3500, \"pe\":2500, \"ch\":5000}\n",
        "- 과일가격이 2500원이 과일은? "
      ]
    },
    {
      "cell_type": "code",
      "execution_count": null,
      "id": "737d7206",
      "metadata": {
        "id": "737d7206",
        "outputId": "bc04dd25-d50c-4d70-f522-e834b3cc696f"
      },
      "outputs": [
        {
          "data": {
            "text/plain": [
              "{'ap': 3500, 'pe': 2500, 'ch': 5000}"
            ]
          },
          "execution_count": 67,
          "metadata": {},
          "output_type": "execute_result"
        }
      ],
      "source": [
        "fruit_dict = {\"ap\":3500, \"pe\":2500, \"ch\":5000}\n",
        "fruit_dict"
      ]
    },
    {
      "cell_type": "code",
      "execution_count": null,
      "id": "070c358d",
      "metadata": {
        "id": "070c358d",
        "outputId": "3259b583-7990-49f2-8fa8-99f9229a1560"
      },
      "outputs": [
        {
          "data": {
            "text/plain": [
              "[('ap', 3500), ('pe', 2500), ('ch', 5000)]"
            ]
          },
          "execution_count": 68,
          "metadata": {},
          "output_type": "execute_result"
        }
      ],
      "source": [
        "list(fruit_dict.items())"
      ]
    },
    {
      "cell_type": "code",
      "execution_count": null,
      "id": "cf15e5c9",
      "metadata": {
        "id": "cf15e5c9",
        "outputId": "f70745c6-433b-4fff-e9f6-690e319e541a"
      },
      "outputs": [
        {
          "name": "stdout",
          "output_type": "stream",
          "text": [
            "2500원 과일은  pe  이다!!\n",
            "2500원 과일은  or  이다!!\n"
          ]
        }
      ],
      "source": [
        "fruit_dict = {\"ap\":3500, \"pe\":2500, \"ch\":5000, \"or\":2500}\n",
        "\n",
        "for item in fruit_dict.items():\n",
        "#     print(item)\n",
        "#     print(item[1])\n",
        "    if item[1] == 2500:\n",
        "        print(\"2500원 과일은 \", item[0], \" 이다!!\")"
      ]
    },
    {
      "cell_type": "code",
      "execution_count": null,
      "id": "06bd6ede",
      "metadata": {
        "id": "06bd6ede"
      },
      "outputs": [],
      "source": []
    },
    {
      "cell_type": "markdown",
      "id": "94198896",
      "metadata": {
        "id": "94198896"
      },
      "source": [
        "### ( 과일명 찾기 )\n",
        "- fruit_dict = {\"ap\":3500, \"pe\":2500, \"ch\":5000, \"or\":2000}\n",
        "- 3000원 이상인 과일을 찾아서 high_price 에 넣고 (리스트형)\n",
        "- 3000원 이하인 과일은 찾아서 low_price에 넣고 (리스트형)\n",
        "  + 리스트변수에 추가하기 \n",
        "- high_price, low_price를 출력하세요."
      ]
    },
    {
      "cell_type": "code",
      "execution_count": null,
      "id": "d60a2550",
      "metadata": {
        "id": "d60a2550",
        "outputId": "e023fe33-b969-47d9-a085-2e2b8c35544d"
      },
      "outputs": [
        {
          "name": "stdout",
          "output_type": "stream",
          "text": [
            "high =  ['ap', 'ch']\n",
            "low =  ['pe', 'or']\n"
          ]
        }
      ],
      "source": [
        "fruit_dict = {\"ap\":3500, \"pe\":2500, \"ch\":5000, \"or\":2000}\n",
        "high_price=[]\n",
        "low_price=[]\n",
        "\n",
        "for item in fruit_dict.items():\n",
        "    if item[1] > 3000:\n",
        "        high_price.append(item[0])\n",
        "    else:\n",
        "        low_price.append(item[0])\n",
        "        \n",
        "print(\"high = \", high_price)\n",
        "print(\"low = \", low_price)"
      ]
    },
    {
      "cell_type": "code",
      "execution_count": null,
      "id": "48edd13b",
      "metadata": {
        "id": "48edd13b"
      },
      "outputs": [],
      "source": []
    },
    {
      "cell_type": "markdown",
      "id": "76f9bd65",
      "metadata": {
        "id": "76f9bd65"
      },
      "source": [
        "### ( 과일 갯수 찾기 )\n",
        "- fruit_dict = {\"ap\":[3500,10], \"pe\":[2500,5], \"ch\":[5000,3], \"or\":[2000,5]}\n",
        "- 3000원 이상인 과일 갯수 high 변수에 누적\n",
        "- 3000원 이하인 과일 갯수 low 변수에 누적\n",
        "- high, low를 출력하세요."
      ]
    },
    {
      "cell_type": "code",
      "execution_count": null,
      "id": "e0b3e744",
      "metadata": {
        "id": "e0b3e744",
        "outputId": "82d4be2d-1c44-4aa2-e9ac-d21ffa996d62"
      },
      "outputs": [
        {
          "name": "stdout",
          "output_type": "stream",
          "text": [
            "high =  13\n",
            "low =  10\n"
          ]
        }
      ],
      "source": [
        "fruit_dict = {\"ap\":[3500,10], \"pe\":[2500,5], \"ch\":[5000,3], \"or\":[2000,5]}\n",
        "high=0\n",
        "low=0\n",
        "\n",
        "for item in fruit_dict.items():\n",
        "    if item[1][0] > 3000:\n",
        "        high = high + item[1][1]\n",
        "    else:\n",
        "        low = low + item[1][1]\n",
        "        \n",
        "print(\"high = \", high)\n",
        "print(\"low = \", low)"
      ]
    },
    {
      "cell_type": "code",
      "execution_count": null,
      "id": "97558454",
      "metadata": {
        "id": "97558454"
      },
      "outputs": [],
      "source": []
    },
    {
      "cell_type": "markdown",
      "id": "8bec594c",
      "metadata": {
        "id": "8bec594c"
      },
      "source": [
        "### jupyter notebook 매직 커맨드\n",
        "1. ipynb 화일 실행 \n",
        "2. .py 실행\n",
        "   - %run *.py \n",
        "   - !python *.py\n",
        "   - 직접 폴더에서 실행 -> python *.py "
      ]
    },
    {
      "cell_type": "code",
      "execution_count": null,
      "id": "c354459f",
      "metadata": {
        "id": "c354459f",
        "outputId": "4f76bf90-8280-4b0c-902e-7c1c36c53334"
      },
      "outputs": [
        {
          "name": "stdout",
          "output_type": "stream",
          "text": [
            "Writing c:/jswoo/test.py\n"
          ]
        }
      ],
      "source": [
        "%%writefile c:/jswoo/test.py\n",
        "\n",
        "fruit_dict = {\"ap\":[3500,10], \"pe\":[2500,5], \"ch\":[5000,3], \"or\":[2000,5]}\n",
        "high=0 ; low=0\n",
        "\n",
        "for item in fruit_dict.items():\n",
        "    if item[1][0] > 3000:\n",
        "        high = high + item[1][1]\n",
        "    else:\n",
        "        low = low + item[1][1]\n",
        "        \n",
        "print(\"high = \", high)\n",
        "print(\"low = \", low)"
      ]
    },
    {
      "cell_type": "code",
      "execution_count": null,
      "id": "e3898a96",
      "metadata": {
        "id": "e3898a96",
        "outputId": "871afaae-cb72-40cc-971b-d0a8aff87610"
      },
      "outputs": [
        {
          "name": "stdout",
          "output_type": "stream",
          "text": [
            "high =  13\n",
            "low =  10\n"
          ]
        }
      ],
      "source": [
        "%run c:/jswoo/test.py"
      ]
    },
    {
      "cell_type": "code",
      "execution_count": null,
      "id": "604d9cda",
      "metadata": {
        "id": "604d9cda",
        "outputId": "ab7fa4d0-7950-426c-f39e-ebc3a20c8a66"
      },
      "outputs": [
        {
          "name": "stdout",
          "output_type": "stream",
          "text": [
            "high =  13\n",
            "low =  10\n"
          ]
        }
      ],
      "source": [
        "!python c:/jswoo/test.py"
      ]
    },
    {
      "cell_type": "code",
      "execution_count": null,
      "id": "375e535e",
      "metadata": {
        "id": "375e535e"
      },
      "outputs": [],
      "source": [
        "# cmd창 -> python test.py"
      ]
    },
    {
      "cell_type": "code",
      "execution_count": null,
      "id": "6eeb5f46",
      "metadata": {
        "id": "6eeb5f46"
      },
      "outputs": [],
      "source": []
    },
    {
      "cell_type": "markdown",
      "id": "2b5330f6",
      "metadata": {
        "id": "2b5330f6"
      },
      "source": [
        "### ( 리스트 컴프리헨션 ) "
      ]
    },
    {
      "cell_type": "code",
      "execution_count": null,
      "id": "6eddeedd",
      "metadata": {
        "id": "6eddeedd",
        "outputId": "b7b8902f-9042-444e-e297-9ab817170410"
      },
      "outputs": [
        {
          "data": {
            "text/plain": [
              "[1, 2, 3, 4, 5, 6, 7, 8, 9, 10]"
            ]
          },
          "execution_count": 93,
          "metadata": {},
          "output_type": "execute_result"
        }
      ],
      "source": [
        "# 1~10 까지 구성된 리스트 만들기 \n",
        "num = list(range(1,11)); num"
      ]
    },
    {
      "cell_type": "code",
      "execution_count": null,
      "id": "788501db",
      "metadata": {
        "id": "788501db",
        "outputId": "bad237e3-40fb-4824-8fa7-1704ad29d115"
      },
      "outputs": [
        {
          "name": "stdout",
          "output_type": "stream",
          "text": [
            "[1, 4, 9, 16, 25, 36, 49, 64, 81, 100]\n"
          ]
        }
      ],
      "source": [
        "# 전체 요소에 제곱된 리스트 만들기 \n",
        "square = []\n",
        "for i in num:\n",
        "    square.append(i**2)\n",
        "print(square)"
      ]
    },
    {
      "cell_type": "code",
      "execution_count": null,
      "id": "1dface19",
      "metadata": {
        "id": "1dface19",
        "outputId": "76be68cf-7bb4-43a8-c5d6-03055b409a95"
      },
      "outputs": [
        {
          "data": {
            "text/plain": [
              "[1, 4, 9, 16, 25, 36, 49, 64, 81, 100]"
            ]
          },
          "execution_count": 96,
          "metadata": {},
          "output_type": "execute_result"
        }
      ],
      "source": [
        "[i**2 for i in num]"
      ]
    },
    {
      "cell_type": "code",
      "execution_count": null,
      "id": "b31d3cc6",
      "metadata": {
        "id": "b31d3cc6"
      },
      "outputs": [],
      "source": []
    },
    {
      "cell_type": "code",
      "execution_count": null,
      "id": "f7d1587d",
      "metadata": {
        "id": "f7d1587d",
        "outputId": "ed4500fa-bb12-46bc-d24a-c18b95133934"
      },
      "outputs": [
        {
          "name": "stdout",
          "output_type": "stream",
          "text": [
            "[25, 36, 49, 64, 81, 100]\n"
          ]
        }
      ],
      "source": [
        "# num의 5보다 >= 요소에 한해 제곱을 적용 \n",
        "square = []\n",
        "for i in num:\n",
        "    if i >= 5:\n",
        "        square.append(i**2)\n",
        "print(square)"
      ]
    },
    {
      "cell_type": "code",
      "execution_count": null,
      "id": "965b7ba4",
      "metadata": {
        "id": "965b7ba4",
        "outputId": "04b16a8d-9e50-45ac-8f0d-4f31dcb74da0"
      },
      "outputs": [
        {
          "data": {
            "text/plain": [
              "[25, 36, 49, 64, 81, 100]"
            ]
          },
          "execution_count": 98,
          "metadata": {},
          "output_type": "execute_result"
        }
      ],
      "source": [
        "[i**2 for i in num if i >= 5 ]"
      ]
    },
    {
      "cell_type": "code",
      "execution_count": null,
      "id": "259bbc49",
      "metadata": {
        "id": "259bbc49"
      },
      "outputs": [],
      "source": []
    },
    {
      "cell_type": "markdown",
      "id": "5c65d4ed",
      "metadata": {
        "id": "5c65d4ed"
      },
      "source": [
        "### (실습 ) \n",
        "- num \n",
        "- 홀수면 3제곱, 짝수면 제곱으로 구성된 \n",
        "- 리스트 만들기\n",
        "  + for문으로 만들기\n",
        "  + 리스트컴프리헨션으로 만들기 -> (구글링해서 적용하기 )"
      ]
    },
    {
      "cell_type": "code",
      "execution_count": null,
      "id": "b3ac099d",
      "metadata": {
        "id": "b3ac099d",
        "outputId": "4cf9bd94-0f2e-4fe0-ad40-281e718154e4"
      },
      "outputs": [
        {
          "name": "stdout",
          "output_type": "stream",
          "text": [
            "[1, 4, 27, 16, 125, 36, 343, 64, 729, 100]\n"
          ]
        }
      ],
      "source": [
        "square = []\n",
        "for i in num:\n",
        "    if i%2 == 0:\n",
        "        square.append(i**2)\n",
        "    else:\n",
        "        square.append(i**3)\n",
        "print(square)"
      ]
    },
    {
      "cell_type": "code",
      "execution_count": null,
      "id": "78abf49a",
      "metadata": {
        "id": "78abf49a"
      },
      "outputs": [],
      "source": [
        "[i**2 for i in num if i >= 5 ]"
      ]
    },
    {
      "cell_type": "code",
      "execution_count": null,
      "id": "08b087b4",
      "metadata": {
        "id": "08b087b4"
      },
      "outputs": [],
      "source": [
        "# [i if i%2==0 else \"홀수\" for i in range(10)]"
      ]
    },
    {
      "cell_type": "code",
      "execution_count": null,
      "id": "f9d8eecf",
      "metadata": {
        "id": "f9d8eecf",
        "outputId": "84063f45-4385-4d89-ef29-3cbeb76b131a"
      },
      "outputs": [
        {
          "data": {
            "text/plain": [
              "[1, 4, 27, 16, 125, 36, 343, 64, 729, 100]"
            ]
          },
          "execution_count": 104,
          "metadata": {},
          "output_type": "execute_result"
        }
      ],
      "source": [
        "[i**2 if i%2 == 0 else i**3 for i in num]"
      ]
    },
    {
      "cell_type": "code",
      "execution_count": null,
      "id": "fd42ad72",
      "metadata": {
        "id": "fd42ad72"
      },
      "outputs": [],
      "source": [
        "num = list(range(1,100001)); num"
      ]
    },
    {
      "cell_type": "code",
      "execution_count": null,
      "id": "21ff2d6b",
      "metadata": {
        "id": "21ff2d6b"
      },
      "outputs": [],
      "source": []
    },
    {
      "cell_type": "markdown",
      "id": "902c96a6",
      "metadata": {
        "id": "902c96a6"
      },
      "source": [
        "### ( while 반복문 )"
      ]
    },
    {
      "cell_type": "code",
      "execution_count": null,
      "id": "5343b3c6",
      "metadata": {
        "id": "5343b3c6",
        "outputId": "8db8db02-ef22-4445-a8c0-09299df14718"
      },
      "outputs": [
        {
          "name": "stdout",
          "output_type": "stream",
          "text": [
            "count =  5\n",
            "count =  4\n",
            "count =  3\n",
            "count =  2\n",
            "count =  1\n",
            "While 문 종료, count =  0\n"
          ]
        }
      ],
      "source": [
        "count = 5\n",
        "while count > 0:\n",
        "    print(\"count = \", count)\n",
        "    count -= 1 # count = count -1 \n",
        "else:\n",
        "    print(\"While 문 종료, count = \", count)"
      ]
    },
    {
      "cell_type": "code",
      "execution_count": null,
      "id": "7c976fad",
      "metadata": {
        "id": "7c976fad"
      },
      "outputs": [],
      "source": []
    }
  ],
  "metadata": {
    "kernelspec": {
      "display_name": "Python 3 (ipykernel)",
      "language": "python",
      "name": "python3"
    },
    "language_info": {
      "codemirror_mode": {
        "name": "ipython",
        "version": 3
      },
      "file_extension": ".py",
      "mimetype": "text/x-python",
      "name": "python",
      "nbconvert_exporter": "python",
      "pygments_lexer": "ipython3",
      "version": "3.9.13"
    },
    "colab": {
      "provenance": [],
      "include_colab_link": true
    }
  },
  "nbformat": 4,
  "nbformat_minor": 5
}