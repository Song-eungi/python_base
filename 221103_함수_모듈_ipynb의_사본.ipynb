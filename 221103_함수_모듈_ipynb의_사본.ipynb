{
  "cells": [
    {
      "cell_type": "markdown",
      "metadata": {
        "id": "view-in-github",
        "colab_type": "text"
      },
      "source": [
        "<a href=\"https://colab.research.google.com/github/Song-eungi/python_base/blob/main/221103_%ED%95%A8%EC%88%98_%EB%AA%A8%EB%93%88_ipynb%EC%9D%98_%EC%82%AC%EB%B3%B8.ipynb\" target=\"_parent\"><img src=\"https://colab.research.google.com/assets/colab-badge.svg\" alt=\"Open In Colab\"/></a>"
      ]
    },
    {
      "cell_type": "markdown",
      "id": "7b69e746",
      "metadata": {
        "id": "7b69e746"
      },
      "source": [
        "### ( 함수 ) "
      ]
    },
    {
      "cell_type": "markdown",
      "id": "f4966eac",
      "metadata": {
        "id": "f4966eac"
      },
      "source": [
        "1. 인자없이 실행하는 함수"
      ]
    },
    {
      "cell_type": "code",
      "execution_count": null,
      "id": "3b9c90e9",
      "metadata": {
        "id": "3b9c90e9"
      },
      "outputs": [],
      "source": [
        "def hello():\n",
        "    print(\"함수 실행!!!\")\n",
        "    for i in range(0,10):\n",
        "        print(i)"
      ]
    },
    {
      "cell_type": "code",
      "execution_count": null,
      "id": "5a69a161",
      "metadata": {
        "id": "5a69a161",
        "outputId": "86fed916-773b-414d-9a42-3267edf390d7"
      },
      "outputs": [
        {
          "name": "stdout",
          "output_type": "stream",
          "text": [
            "함수 실행!!!\n",
            "0\n",
            "1\n",
            "2\n",
            "3\n",
            "4\n",
            "5\n",
            "6\n",
            "7\n",
            "8\n",
            "9\n"
          ]
        }
      ],
      "source": [
        "hello()"
      ]
    },
    {
      "cell_type": "code",
      "execution_count": null,
      "id": "cbe5d4bd",
      "metadata": {
        "id": "cbe5d4bd"
      },
      "outputs": [],
      "source": []
    },
    {
      "cell_type": "markdown",
      "id": "0bbec062",
      "metadata": {
        "id": "0bbec062"
      },
      "source": [
        "2. 인자를 받아서 실행"
      ]
    },
    {
      "cell_type": "code",
      "execution_count": null,
      "id": "b63544fd",
      "metadata": {
        "id": "b63544fd"
      },
      "outputs": [],
      "source": [
        "def sum(a,b):\n",
        "    c = a+b\n",
        "    print(c)"
      ]
    },
    {
      "cell_type": "code",
      "execution_count": null,
      "id": "bce31181",
      "metadata": {
        "id": "bce31181",
        "outputId": "9ab1f57d-5899-4924-ce90-f87922c7f3d2"
      },
      "outputs": [
        {
          "name": "stdout",
          "output_type": "stream",
          "text": [
            "5\n"
          ]
        }
      ],
      "source": [
        "a=3; b=2\n",
        "sum(a,b)"
      ]
    },
    {
      "cell_type": "code",
      "execution_count": null,
      "id": "8013c8cd",
      "metadata": {
        "id": "8013c8cd",
        "outputId": "15f2f199-b970-4705-91f7-a0bc7c1d04ca"
      },
      "outputs": [
        {
          "name": "stdout",
          "output_type": "stream",
          "text": [
            "5\n",
            "None\n"
          ]
        }
      ],
      "source": [
        "res = sum(a,b)\n",
        "print(res)"
      ]
    },
    {
      "cell_type": "code",
      "execution_count": null,
      "id": "7f2d1d7d",
      "metadata": {
        "id": "7f2d1d7d"
      },
      "outputs": [],
      "source": []
    },
    {
      "cell_type": "markdown",
      "id": "b779a2d6",
      "metadata": {
        "id": "b779a2d6"
      },
      "source": [
        "3. 인자를 받아서 실행후 결과값을 돌려줌\n"
      ]
    },
    {
      "cell_type": "code",
      "execution_count": null,
      "id": "19468d08",
      "metadata": {
        "id": "19468d08"
      },
      "outputs": [],
      "source": [
        "def sum1(a,b):\n",
        "    c = a+b\n",
        "    print(\"def c = \", c)\n",
        "    return a+b"
      ]
    },
    {
      "cell_type": "code",
      "execution_count": null,
      "id": "f5c3ad23",
      "metadata": {
        "id": "f5c3ad23",
        "outputId": "3a838efd-7ef3-46c0-883a-c78ffcad687b"
      },
      "outputs": [
        {
          "name": "stdout",
          "output_type": "stream",
          "text": [
            "def c =  5\n"
          ]
        },
        {
          "data": {
            "text/plain": [
              "5"
            ]
          },
          "execution_count": 19,
          "metadata": {},
          "output_type": "execute_result"
        }
      ],
      "source": [
        "x = 3; y = 2\n",
        "sum1(x,y)"
      ]
    },
    {
      "cell_type": "code",
      "execution_count": null,
      "id": "dafcc336",
      "metadata": {
        "id": "dafcc336",
        "outputId": "80ada2c3-04d1-4faa-f52f-1ffe69a119c5"
      },
      "outputs": [
        {
          "name": "stdout",
          "output_type": "stream",
          "text": [
            "def c =  5\n"
          ]
        }
      ],
      "source": [
        "res1 = sum1(x,y)"
      ]
    },
    {
      "cell_type": "code",
      "execution_count": null,
      "id": "2bc39bda",
      "metadata": {
        "id": "2bc39bda",
        "outputId": "77838baa-7b19-43fb-81a9-1a25fce88688"
      },
      "outputs": [
        {
          "data": {
            "text/plain": [
              "5"
            ]
          },
          "execution_count": 21,
          "metadata": {},
          "output_type": "execute_result"
        }
      ],
      "source": [
        "res1"
      ]
    },
    {
      "cell_type": "code",
      "execution_count": null,
      "id": "d9ae01fa",
      "metadata": {
        "id": "d9ae01fa",
        "outputId": "5c054dec-9bf5-4964-f570-58530433db09"
      },
      "outputs": [
        {
          "name": "stdout",
          "output_type": "stream",
          "text": [
            "def c =  80\n"
          ]
        },
        {
          "data": {
            "text/plain": [
              "80"
            ]
          },
          "execution_count": 22,
          "metadata": {},
          "output_type": "execute_result"
        }
      ],
      "source": [
        "sum1(30,50)"
      ]
    },
    {
      "cell_type": "code",
      "execution_count": null,
      "id": "07af4fd5",
      "metadata": {
        "id": "07af4fd5"
      },
      "outputs": [],
      "source": []
    },
    {
      "cell_type": "markdown",
      "id": "6a4583ea",
      "metadata": {
        "id": "6a4583ea"
      },
      "source": [
        "4. 여러개의 입력값을 받는 함수"
      ]
    },
    {
      "cell_type": "code",
      "execution_count": null,
      "id": "4502354c",
      "metadata": {
        "id": "4502354c"
      },
      "outputs": [],
      "source": [
        "def sum_many(*args):\n",
        "    print(args)\n",
        "    sum = 0\n",
        "    for i in args:\n",
        "        sum = sum + i # sum += 1\n",
        "    return sum"
      ]
    },
    {
      "cell_type": "code",
      "execution_count": null,
      "id": "27929184",
      "metadata": {
        "id": "27929184"
      },
      "outputs": [],
      "source": [
        "def sum_many1(*aa):\n",
        "    print(aa)\n",
        "    sum = 0\n",
        "    for i in aa:\n",
        "        sum = sum + i # sum += 1\n",
        "    return sum"
      ]
    },
    {
      "cell_type": "code",
      "execution_count": null,
      "id": "f9c4c8f4",
      "metadata": {
        "id": "f9c4c8f4",
        "outputId": "1ea959ee-226b-427f-d11e-dfab4ce2fc1a"
      },
      "outputs": [
        {
          "name": "stdout",
          "output_type": "stream",
          "text": [
            "(1, 2, 3, 4, 5)\n"
          ]
        },
        {
          "data": {
            "text/plain": [
              "15"
            ]
          },
          "execution_count": 30,
          "metadata": {},
          "output_type": "execute_result"
        }
      ],
      "source": [
        "sum_many(1,2,3,4,5)"
      ]
    },
    {
      "cell_type": "code",
      "execution_count": null,
      "id": "58c5cde4",
      "metadata": {
        "id": "58c5cde4",
        "outputId": "6a0d9765-7de9-4a6b-b4ed-353e84d4e9b7"
      },
      "outputs": [
        {
          "name": "stdout",
          "output_type": "stream",
          "text": [
            "(1, 2, 3, 4, 5, 6, 7, 8, 9, 10)\n"
          ]
        },
        {
          "data": {
            "text/plain": [
              "55"
            ]
          },
          "execution_count": 31,
          "metadata": {},
          "output_type": "execute_result"
        }
      ],
      "source": [
        "sum_many(1,2,3,4,5,6,7,8,9,10)"
      ]
    },
    {
      "cell_type": "code",
      "execution_count": null,
      "id": "3deb996b",
      "metadata": {
        "id": "3deb996b",
        "outputId": "734c8e4a-9b8d-4286-e932-57e846cc7de2"
      },
      "outputs": [
        {
          "name": "stdout",
          "output_type": "stream",
          "text": [
            "(1, 3, 5, 7)\n"
          ]
        },
        {
          "data": {
            "text/plain": [
              "16"
            ]
          },
          "execution_count": 38,
          "metadata": {},
          "output_type": "execute_result"
        }
      ],
      "source": [
        "sum_many1(1,3,5,7)"
      ]
    },
    {
      "cell_type": "code",
      "execution_count": null,
      "id": "bdc4d702",
      "metadata": {
        "id": "bdc4d702"
      },
      "outputs": [],
      "source": []
    },
    {
      "cell_type": "markdown",
      "id": "d5ff4055",
      "metadata": {
        "id": "d5ff4055"
      },
      "source": [
        "5. keyword arg 처리 방식"
      ]
    },
    {
      "cell_type": "code",
      "execution_count": null,
      "id": "1908a973",
      "metadata": {
        "id": "1908a973"
      },
      "outputs": [],
      "source": [
        "def person(**kwargs):\n",
        "    print(kwargs)"
      ]
    },
    {
      "cell_type": "code",
      "execution_count": null,
      "id": "9c102a17",
      "metadata": {
        "id": "9c102a17",
        "outputId": "ff4b98a4-c62e-439d-f269-429a80e67feb"
      },
      "outputs": [
        {
          "name": "stdout",
          "output_type": "stream",
          "text": [
            "{'이름': 'woo', '키': 176}\n"
          ]
        }
      ],
      "source": [
        "person(이름=\"woo\",키=176)"
      ]
    },
    {
      "cell_type": "code",
      "execution_count": null,
      "id": "352934a7",
      "metadata": {
        "id": "352934a7"
      },
      "outputs": [],
      "source": [
        "def person1(**kwargs):\n",
        "    for key, value in kwargs.items():\n",
        "        print(\"{} is {}\".format(key, value))"
      ]
    },
    {
      "cell_type": "code",
      "execution_count": null,
      "id": "c02964ee",
      "metadata": {
        "id": "c02964ee",
        "outputId": "de19cea6-4eed-4ecb-eb50-056a810331ac"
      },
      "outputs": [
        {
          "name": "stdout",
          "output_type": "stream",
          "text": [
            "이름 is woo\n"
          ]
        }
      ],
      "source": [
        "person1(이름=\"woo\")"
      ]
    },
    {
      "cell_type": "code",
      "execution_count": null,
      "id": "7c6c0276",
      "metadata": {
        "id": "7c6c0276"
      },
      "outputs": [],
      "source": []
    },
    {
      "cell_type": "code",
      "execution_count": null,
      "id": "2923da38",
      "metadata": {
        "id": "2923da38"
      },
      "outputs": [],
      "source": [
        "def std_arg(arg):\n",
        "    print(\"std_arg = \", arg)\n",
        "def pos_only_arg(arg, /):\n",
        "    print(\"pos_only_arg = \", arg)\n",
        "def kwd_only_arg(*, arg):\n",
        "    print(arg)\n",
        "def combined_example(pos_only, /, standard, *, kwd_only):\n",
        "    print(pos_only, standard, kwd_only)"
      ]
    },
    {
      "cell_type": "code",
      "execution_count": null,
      "id": "643159e2",
      "metadata": {
        "id": "643159e2",
        "outputId": "5cecb55c-60cc-4bc0-ada4-d2d91c57610a"
      },
      "outputs": [
        {
          "name": "stdout",
          "output_type": "stream",
          "text": [
            "std_arg =  2\n"
          ]
        }
      ],
      "source": [
        "std_arg(2)"
      ]
    },
    {
      "cell_type": "code",
      "execution_count": null,
      "id": "c4bfd7b8",
      "metadata": {
        "id": "c4bfd7b8",
        "outputId": "edd66bdc-7c75-4fdb-dbf3-f6a3650d6bed"
      },
      "outputs": [
        {
          "name": "stdout",
          "output_type": "stream",
          "text": [
            "std_arg =  2\n"
          ]
        }
      ],
      "source": [
        "std_arg(arg=2)"
      ]
    },
    {
      "cell_type": "code",
      "execution_count": null,
      "id": "ce37a189",
      "metadata": {
        "id": "ce37a189",
        "outputId": "18e6de2e-0378-467d-bc90-bfcc2024cf90"
      },
      "outputs": [
        {
          "ename": "TypeError",
          "evalue": "std_arg() got an unexpected keyword argument 'a'",
          "output_type": "error",
          "traceback": [
            "\u001b[1;31m---------------------------------------------------------------------------\u001b[0m",
            "\u001b[1;31mTypeError\u001b[0m                                 Traceback (most recent call last)",
            "\u001b[1;32m~\\AppData\\Local\\Temp\\ipykernel_11148\\1052478511.py\u001b[0m in \u001b[0;36m<module>\u001b[1;34m\u001b[0m\n\u001b[1;32m----> 1\u001b[1;33m \u001b[0mstd_arg\u001b[0m\u001b[1;33m(\u001b[0m\u001b[0ma\u001b[0m\u001b[1;33m=\u001b[0m\u001b[1;36m2\u001b[0m\u001b[1;33m)\u001b[0m\u001b[1;33m\u001b[0m\u001b[1;33m\u001b[0m\u001b[0m\n\u001b[0m",
            "\u001b[1;31mTypeError\u001b[0m: std_arg() got an unexpected keyword argument 'a'"
          ]
        }
      ],
      "source": [
        "std_arg(a=2)"
      ]
    },
    {
      "cell_type": "code",
      "execution_count": null,
      "id": "741c16ee",
      "metadata": {
        "id": "741c16ee",
        "outputId": "6e273d71-c3da-45e1-f4df-a720160c132e"
      },
      "outputs": [
        {
          "name": "stdout",
          "output_type": "stream",
          "text": [
            "pos_only_arg =  1\n"
          ]
        }
      ],
      "source": [
        "pos_only_arg(1)"
      ]
    },
    {
      "cell_type": "code",
      "execution_count": null,
      "id": "88756149",
      "metadata": {
        "id": "88756149",
        "outputId": "9648a7d5-4f10-4291-b12f-e83e0eae71a8"
      },
      "outputs": [
        {
          "ename": "TypeError",
          "evalue": "pos_only_arg() got some positional-only arguments passed as keyword arguments: 'arg'",
          "output_type": "error",
          "traceback": [
            "\u001b[1;31m---------------------------------------------------------------------------\u001b[0m",
            "\u001b[1;31mTypeError\u001b[0m                                 Traceback (most recent call last)",
            "\u001b[1;32m~\\AppData\\Local\\Temp\\ipykernel_11148\\2836004375.py\u001b[0m in \u001b[0;36m<module>\u001b[1;34m\u001b[0m\n\u001b[1;32m----> 1\u001b[1;33m \u001b[0mpos_only_arg\u001b[0m\u001b[1;33m(\u001b[0m\u001b[0marg\u001b[0m\u001b[1;33m=\u001b[0m\u001b[1;36m1\u001b[0m\u001b[1;33m)\u001b[0m\u001b[1;33m\u001b[0m\u001b[1;33m\u001b[0m\u001b[0m\n\u001b[0m",
            "\u001b[1;31mTypeError\u001b[0m: pos_only_arg() got some positional-only arguments passed as keyword arguments: 'arg'"
          ]
        }
      ],
      "source": [
        "pos_only_arg(arg=1)"
      ]
    },
    {
      "cell_type": "code",
      "execution_count": null,
      "id": "370b020f",
      "metadata": {
        "id": "370b020f",
        "outputId": "7574bb3f-13d4-4803-b24a-1d31bc88fe9b"
      },
      "outputs": [
        {
          "ename": "TypeError",
          "evalue": "pos_only_arg() takes 1 positional argument but 2 were given",
          "output_type": "error",
          "traceback": [
            "\u001b[1;31m---------------------------------------------------------------------------\u001b[0m",
            "\u001b[1;31mTypeError\u001b[0m                                 Traceback (most recent call last)",
            "\u001b[1;32m~\\AppData\\Local\\Temp\\ipykernel_11148\\1251671248.py\u001b[0m in \u001b[0;36m<module>\u001b[1;34m\u001b[0m\n\u001b[1;32m----> 1\u001b[1;33m \u001b[0mpos_only_arg\u001b[0m\u001b[1;33m(\u001b[0m\u001b[1;36m1\u001b[0m\u001b[1;33m,\u001b[0m\u001b[1;36m2\u001b[0m\u001b[1;33m)\u001b[0m\u001b[1;33m\u001b[0m\u001b[1;33m\u001b[0m\u001b[0m\n\u001b[0m",
            "\u001b[1;31mTypeError\u001b[0m: pos_only_arg() takes 1 positional argument but 2 were given"
          ]
        }
      ],
      "source": [
        "pos_only_arg(1,2)"
      ]
    },
    {
      "cell_type": "code",
      "execution_count": null,
      "id": "7047535c",
      "metadata": {
        "id": "7047535c",
        "outputId": "26253c94-9762-4987-b129-b273be327502"
      },
      "outputs": [
        {
          "ename": "TypeError",
          "evalue": "kwd_only_arg() takes 0 positional arguments but 1 was given",
          "output_type": "error",
          "traceback": [
            "\u001b[1;31m---------------------------------------------------------------------------\u001b[0m",
            "\u001b[1;31mTypeError\u001b[0m                                 Traceback (most recent call last)",
            "\u001b[1;32m~\\AppData\\Local\\Temp\\ipykernel_11148\\3746133676.py\u001b[0m in \u001b[0;36m<module>\u001b[1;34m\u001b[0m\n\u001b[1;32m----> 1\u001b[1;33m \u001b[0mkwd_only_arg\u001b[0m\u001b[1;33m(\u001b[0m\u001b[1;36m3\u001b[0m\u001b[1;33m)\u001b[0m\u001b[1;33m\u001b[0m\u001b[1;33m\u001b[0m\u001b[0m\n\u001b[0m",
            "\u001b[1;31mTypeError\u001b[0m: kwd_only_arg() takes 0 positional arguments but 1 was given"
          ]
        }
      ],
      "source": [
        "kwd_only_arg(3)"
      ]
    },
    {
      "cell_type": "code",
      "execution_count": null,
      "id": "557497cc",
      "metadata": {
        "id": "557497cc",
        "outputId": "9ed74b1d-911b-4ded-efa7-7d4f82656466"
      },
      "outputs": [
        {
          "name": "stdout",
          "output_type": "stream",
          "text": [
            "3\n"
          ]
        }
      ],
      "source": [
        "kwd_only_arg(arg=3)"
      ]
    },
    {
      "cell_type": "code",
      "execution_count": null,
      "id": "3bbb440f",
      "metadata": {
        "id": "3bbb440f",
        "outputId": "7067ed49-e452-4731-fc61-00cc17341484"
      },
      "outputs": [
        {
          "ename": "TypeError",
          "evalue": "kwd_only_arg() got an unexpected keyword argument 'a'",
          "output_type": "error",
          "traceback": [
            "\u001b[1;31m---------------------------------------------------------------------------\u001b[0m",
            "\u001b[1;31mTypeError\u001b[0m                                 Traceback (most recent call last)",
            "\u001b[1;32m~\\AppData\\Local\\Temp\\ipykernel_11148\\3371624529.py\u001b[0m in \u001b[0;36m<module>\u001b[1;34m\u001b[0m\n\u001b[1;32m----> 1\u001b[1;33m \u001b[0mkwd_only_arg\u001b[0m\u001b[1;33m(\u001b[0m\u001b[0ma\u001b[0m\u001b[1;33m=\u001b[0m\u001b[1;36m3\u001b[0m\u001b[1;33m)\u001b[0m\u001b[1;33m\u001b[0m\u001b[1;33m\u001b[0m\u001b[0m\n\u001b[0m",
            "\u001b[1;31mTypeError\u001b[0m: kwd_only_arg() got an unexpected keyword argument 'a'"
          ]
        }
      ],
      "source": [
        "kwd_only_arg(a=3)"
      ]
    },
    {
      "cell_type": "code",
      "execution_count": null,
      "id": "2189c52c",
      "metadata": {
        "id": "2189c52c",
        "outputId": "fe74b642-65f3-4b2b-edf4-0d6484a0a299"
      },
      "outputs": [
        {
          "ename": "TypeError",
          "evalue": "combined_example() takes 2 positional arguments but 3 were given",
          "output_type": "error",
          "traceback": [
            "\u001b[1;31m---------------------------------------------------------------------------\u001b[0m",
            "\u001b[1;31mTypeError\u001b[0m                                 Traceback (most recent call last)",
            "\u001b[1;32m~\\AppData\\Local\\Temp\\ipykernel_11148\\2395687018.py\u001b[0m in \u001b[0;36m<module>\u001b[1;34m\u001b[0m\n\u001b[1;32m----> 1\u001b[1;33m \u001b[0mcombined_example\u001b[0m\u001b[1;33m(\u001b[0m\u001b[1;36m1\u001b[0m\u001b[1;33m,\u001b[0m\u001b[1;36m2\u001b[0m\u001b[1;33m,\u001b[0m\u001b[1;36m3\u001b[0m\u001b[1;33m)\u001b[0m\u001b[1;33m\u001b[0m\u001b[1;33m\u001b[0m\u001b[0m\n\u001b[0m",
            "\u001b[1;31mTypeError\u001b[0m: combined_example() takes 2 positional arguments but 3 were given"
          ]
        }
      ],
      "source": [
        "combined_example(1,2,3)"
      ]
    },
    {
      "cell_type": "code",
      "execution_count": null,
      "id": "c660e230",
      "metadata": {
        "id": "c660e230",
        "outputId": "24b4192a-0f53-4fa7-b42b-774f7143ffa6"
      },
      "outputs": [
        {
          "name": "stdout",
          "output_type": "stream",
          "text": [
            "1 2 3\n"
          ]
        }
      ],
      "source": [
        "combined_example(1,2,kwd_only=3)"
      ]
    },
    {
      "cell_type": "code",
      "execution_count": null,
      "id": "f088d086",
      "metadata": {
        "id": "f088d086"
      },
      "outputs": [],
      "source": []
    }
  ],
  "metadata": {
    "kernelspec": {
      "display_name": "Python 3 (ipykernel)",
      "language": "python",
      "name": "python3"
    },
    "language_info": {
      "codemirror_mode": {
        "name": "ipython",
        "version": 3
      },
      "file_extension": ".py",
      "mimetype": "text/x-python",
      "name": "python",
      "nbconvert_exporter": "python",
      "pygments_lexer": "ipython3",
      "version": "3.9.13"
    },
    "colab": {
      "provenance": [],
      "include_colab_link": true
    }
  },
  "nbformat": 4,
  "nbformat_minor": 5
}