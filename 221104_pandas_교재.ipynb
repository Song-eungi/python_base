{
  "cells": [
    {
      "cell_type": "markdown",
      "metadata": {
        "id": "view-in-github",
        "colab_type": "text"
      },
      "source": [
        "<a href=\"https://colab.research.google.com/github/Song-eungi/python_base/blob/main/221104_pandas_%EA%B5%90%EC%9E%AC.ipynb\" target=\"_parent\"><img src=\"https://colab.research.google.com/assets/colab-badge.svg\" alt=\"Open In Colab\"/></a>"
      ]
    },
    {
      "cell_type": "code",
      "execution_count": null,
      "id": "aa7c1b89",
      "metadata": {
        "id": "aa7c1b89"
      },
      "outputs": [],
      "source": [
        "from pandas import Series, DataFrame\n",
        "import pandas as pd"
      ]
    },
    {
      "cell_type": "code",
      "execution_count": null,
      "id": "68b45d02",
      "metadata": {
        "id": "68b45d02",
        "outputId": "236a6ed1-da16-4eea-e808-a81e90236068"
      },
      "outputs": [
        {
          "name": "stdout",
          "output_type": "stream",
          "text": [
            "ver =  1.4.4\n"
          ]
        }
      ],
      "source": [
        "print(\"ver = \", pd.__version__)"
      ]
    },
    {
      "cell_type": "code",
      "execution_count": null,
      "id": "9ee1d271",
      "metadata": {
        "id": "9ee1d271"
      },
      "outputs": [],
      "source": []
    },
    {
      "cell_type": "markdown",
      "id": "8266f52d",
      "metadata": {
        "id": "8266f52d"
      },
      "source": [
        "1. Series 데이터 생성"
      ]
    },
    {
      "cell_type": "code",
      "execution_count": null,
      "id": "ae1fe0b8",
      "metadata": {
        "id": "ae1fe0b8",
        "outputId": "8cda8a92-3d75-4da7-de49-8e223dfdac1c"
      },
      "outputs": [
        {
          "data": {
            "text/plain": [
              "0    2500\n",
              "1    3800\n",
              "2    1200\n",
              "3    6000\n",
              "dtype: int64"
            ]
          },
          "execution_count": 8,
          "metadata": {},
          "output_type": "execute_result"
        }
      ],
      "source": [
        "# Series 생성 1\n",
        "fruit = Series(data=[2500,3800,1200,6000])\n",
        "fruit"
      ]
    },
    {
      "cell_type": "code",
      "execution_count": null,
      "id": "2b085378",
      "metadata": {
        "id": "2b085378",
        "outputId": "4df06933-c5c1-469e-f357-5633c19c305a"
      },
      "outputs": [
        {
          "data": {
            "text/plain": [
              "ap    2500\n",
              "ba    3800\n",
              "pe    1200\n",
              "ch    6000\n",
              "dtype: int64"
            ]
          },
          "execution_count": 5,
          "metadata": {},
          "output_type": "execute_result"
        }
      ],
      "source": [
        "fruit = Series(data=[2500,3800,1200,6000],\n",
        "               index=[\"ap\",\"ba\",\"pe\",\"ch\"])\n",
        "fruit"
      ]
    },
    {
      "cell_type": "code",
      "execution_count": null,
      "id": "542ecdcb",
      "metadata": {
        "id": "542ecdcb",
        "outputId": "a1bd901f-e7d2-4500-c98b-1fd61d84c7ff"
      },
      "outputs": [
        {
          "data": {
            "text/plain": [
              "array([2500, 3800, 1200, 6000], dtype=int64)"
            ]
          },
          "execution_count": 6,
          "metadata": {},
          "output_type": "execute_result"
        }
      ],
      "source": [
        "fruit.values"
      ]
    },
    {
      "cell_type": "code",
      "execution_count": null,
      "id": "eccc3df4",
      "metadata": {
        "id": "eccc3df4",
        "outputId": "9b7f0517-9435-4a5f-8274-365f3066da97"
      },
      "outputs": [
        {
          "data": {
            "text/plain": [
              "Index(['ap', 'ba', 'pe', 'ch'], dtype='object')"
            ]
          },
          "execution_count": 7,
          "metadata": {},
          "output_type": "execute_result"
        }
      ],
      "source": [
        "fruit.index"
      ]
    },
    {
      "cell_type": "code",
      "execution_count": null,
      "id": "bc51a91d",
      "metadata": {
        "id": "bc51a91d",
        "outputId": "faed1f36-d7f9-47e0-b702-83e4c45ec42b"
      },
      "outputs": [
        {
          "data": {
            "text/plain": [
              "{'ap': 2500, 'ba': 3800, 'pe': 1200, 'ch': 6000}"
            ]
          },
          "execution_count": 9,
          "metadata": {},
          "output_type": "execute_result"
        }
      ],
      "source": [
        "# Series 생성 2\n",
        "\n",
        "data = {\"ap\":2500, \"ba\":3800, \"pe\":1200, \"ch\":6000};data"
      ]
    },
    {
      "cell_type": "code",
      "execution_count": null,
      "id": "679673c7",
      "metadata": {
        "id": "679673c7",
        "outputId": "04745e45-3cb6-4cfb-8c68-150592a66a9d"
      },
      "outputs": [
        {
          "data": {
            "text/plain": [
              "ap    2500\n",
              "ba    3800\n",
              "pe    1200\n",
              "ch    6000\n",
              "dtype: int64"
            ]
          },
          "execution_count": 10,
          "metadata": {},
          "output_type": "execute_result"
        }
      ],
      "source": [
        "fruit = Series(data)\n",
        "fruit"
      ]
    },
    {
      "cell_type": "code",
      "execution_count": null,
      "id": "7b02c6f7",
      "metadata": {
        "id": "7b02c6f7",
        "outputId": "2eec5ac5-8faa-4298-9aa4-4a0458c89a3f"
      },
      "outputs": [
        {
          "data": {
            "text/plain": [
              "dict"
            ]
          },
          "execution_count": 11,
          "metadata": {},
          "output_type": "execute_result"
        }
      ],
      "source": [
        "type(data)"
      ]
    },
    {
      "cell_type": "code",
      "execution_count": null,
      "id": "d6e4693e",
      "metadata": {
        "id": "d6e4693e",
        "outputId": "f23a9544-a18c-43ed-a658-543f033a750e"
      },
      "outputs": [
        {
          "data": {
            "text/plain": [
              "pandas.core.series.Series"
            ]
          },
          "execution_count": 12,
          "metadata": {},
          "output_type": "execute_result"
        }
      ],
      "source": [
        "type(fruit)"
      ]
    },
    {
      "cell_type": "code",
      "execution_count": null,
      "id": "f1ad80d1",
      "metadata": {
        "id": "f1ad80d1",
        "outputId": "6759f4ce-3217-4980-85ce-41322b4079b7"
      },
      "outputs": [
        {
          "data": {
            "text/plain": [
              "ap    2500\n",
              "ba    3800\n",
              "pe    1200\n",
              "ch    6000\n",
              "dtype: int64"
            ]
          },
          "execution_count": 13,
          "metadata": {},
          "output_type": "execute_result"
        }
      ],
      "source": [
        "fruit"
      ]
    },
    {
      "cell_type": "code",
      "execution_count": null,
      "id": "f2aecf2e",
      "metadata": {
        "id": "f2aecf2e",
        "outputId": "844f2abd-0c54-4bfe-c898-250fce372f77"
      },
      "outputs": [
        {
          "data": {
            "text/plain": [
              "ap    2500\n",
              "ba    3800\n",
              "pe    1200\n",
              "ch    6000\n",
              "Name: fruitPrice, dtype: int64"
            ]
          },
          "execution_count": 15,
          "metadata": {},
          "output_type": "execute_result"
        }
      ],
      "source": [
        "# Series 이름 붙이기\n",
        "fruit.name = \"fruitPrice\"\n",
        "fruit"
      ]
    },
    {
      "cell_type": "code",
      "execution_count": null,
      "id": "26fe0d3b",
      "metadata": {
        "id": "26fe0d3b",
        "outputId": "2dae6e0d-0390-48b3-b0d5-a91d52073ff0"
      },
      "outputs": [
        {
          "data": {
            "text/plain": [
              "fruitName\n",
              "ap    2500\n",
              "ba    3800\n",
              "pe    1200\n",
              "ch    6000\n",
              "Name: fruitPrice, dtype: int64"
            ]
          },
          "execution_count": 16,
          "metadata": {},
          "output_type": "execute_result"
        }
      ],
      "source": [
        "fruit.index.name = \"fruitName\"\n",
        "fruit"
      ]
    },
    {
      "cell_type": "code",
      "execution_count": null,
      "id": "a2e9e9b8",
      "metadata": {
        "id": "a2e9e9b8",
        "outputId": "ca53cd4a-1132-4fd7-8139-083433e9dca8"
      },
      "outputs": [
        {
          "data": {
            "text/plain": [
              "'fruitName'"
            ]
          },
          "execution_count": 18,
          "metadata": {},
          "output_type": "execute_result"
        }
      ],
      "source": [
        "fruit.index.name"
      ]
    },
    {
      "cell_type": "code",
      "execution_count": null,
      "id": "01d85ac1",
      "metadata": {
        "id": "01d85ac1"
      },
      "outputs": [],
      "source": [
        "Series()"
      ]
    },
    {
      "cell_type": "code",
      "execution_count": null,
      "id": "2033740f",
      "metadata": {
        "id": "2033740f"
      },
      "outputs": [],
      "source": []
    },
    {
      "cell_type": "code",
      "execution_count": null,
      "id": "023a6666",
      "metadata": {
        "id": "023a6666",
        "outputId": "6ef72aef-6982-405c-ffed-ce04c2318c14"
      },
      "outputs": [
        {
          "data": {
            "text/plain": [
              "[1, 2, 3, 4]"
            ]
          },
          "execution_count": 25,
          "metadata": {},
          "output_type": "execute_result"
        }
      ],
      "source": [
        "### 참고 \n",
        "a = [1,2,3,4]\n",
        "a"
      ]
    },
    {
      "cell_type": "code",
      "execution_count": null,
      "id": "d8c7bf46",
      "metadata": {
        "id": "d8c7bf46",
        "outputId": "2a5c9685-b8df-45cb-c34e-239357bfe6a1"
      },
      "outputs": [
        {
          "data": {
            "text/plain": [
              "[1, 2, 3, 4]"
            ]
          },
          "execution_count": 21,
          "metadata": {},
          "output_type": "execute_result"
        }
      ],
      "source": [
        "b = a;\n",
        "b"
      ]
    },
    {
      "cell_type": "code",
      "execution_count": null,
      "id": "41236abb",
      "metadata": {
        "id": "41236abb"
      },
      "outputs": [],
      "source": [
        "b[1] = 999"
      ]
    },
    {
      "cell_type": "code",
      "execution_count": null,
      "id": "e563be08",
      "metadata": {
        "id": "e563be08",
        "outputId": "3ab8d4b8-c0f3-43f8-bb52-80ca578f30a8"
      },
      "outputs": [
        {
          "data": {
            "text/plain": [
              "[1, 999, 3, 4]"
            ]
          },
          "execution_count": 23,
          "metadata": {},
          "output_type": "execute_result"
        }
      ],
      "source": [
        "b"
      ]
    },
    {
      "cell_type": "code",
      "execution_count": null,
      "id": "24428f31",
      "metadata": {
        "id": "24428f31",
        "outputId": "3ad9eaab-5f96-4b34-aee8-fb48ca56d9ea"
      },
      "outputs": [
        {
          "data": {
            "text/plain": [
              "[1, 999, 3, 4]"
            ]
          },
          "execution_count": 24,
          "metadata": {},
          "output_type": "execute_result"
        }
      ],
      "source": [
        "a"
      ]
    },
    {
      "cell_type": "code",
      "execution_count": null,
      "id": "48865704",
      "metadata": {
        "id": "48865704"
      },
      "outputs": [],
      "source": []
    },
    {
      "cell_type": "code",
      "execution_count": null,
      "id": "21df3e61",
      "metadata": {
        "id": "21df3e61"
      },
      "outputs": [],
      "source": [
        "c = a.copy()"
      ]
    },
    {
      "cell_type": "code",
      "execution_count": null,
      "id": "1d018d94",
      "metadata": {
        "id": "1d018d94",
        "outputId": "7a543cd4-afdf-4f46-ef06-d7f7e2e14617"
      },
      "outputs": [
        {
          "data": {
            "text/plain": [
              "[1, 999, 3, 4]"
            ]
          },
          "execution_count": 27,
          "metadata": {},
          "output_type": "execute_result"
        }
      ],
      "source": [
        "c[1] = 999\n",
        "c"
      ]
    },
    {
      "cell_type": "code",
      "execution_count": null,
      "id": "3e7d57b3",
      "metadata": {
        "id": "3e7d57b3",
        "outputId": "d88acf5c-fe35-4f39-8708-6f51dccd7539"
      },
      "outputs": [
        {
          "data": {
            "text/plain": [
              "[1, 2, 3, 4]"
            ]
          },
          "execution_count": 28,
          "metadata": {},
          "output_type": "execute_result"
        }
      ],
      "source": [
        "a"
      ]
    },
    {
      "cell_type": "code",
      "execution_count": null,
      "id": "daa7154e",
      "metadata": {
        "id": "daa7154e"
      },
      "outputs": [],
      "source": []
    },
    {
      "cell_type": "markdown",
      "id": "9d896ac2",
      "metadata": {
        "id": "9d896ac2"
      },
      "source": [
        "2. DataFrame 생성 "
      ]
    },
    {
      "cell_type": "code",
      "execution_count": null,
      "id": "4e121888",
      "metadata": {
        "id": "4e121888",
        "outputId": "c00c1f8a-b886-434a-8bf4-69159faf2479"
      },
      "outputs": [
        {
          "data": {
            "text/plain": [
              "{'name': ['ap', 'ba', 'ch', 'pe'],\n",
              " 'price': [2500, 3800, 6000, 1200],\n",
              " 'num': [10, 5, 3, 8]}"
            ]
          },
          "execution_count": 34,
          "metadata": {},
          "output_type": "execute_result"
        }
      ],
      "source": [
        "data = {\"name\":[\"ap\",\"ba\",\"ch\",\"pe\"],\n",
        "        \"price\":[2500,3800,6000,1200],\n",
        "        \"num\":[10,5,3,8]}\n",
        "data"
      ]
    },
    {
      "cell_type": "code",
      "execution_count": null,
      "id": "2f73f758",
      "metadata": {
        "id": "2f73f758",
        "outputId": "3851c3a1-6360-4727-c867-5c4a392ae66a"
      },
      "outputs": [
        {
          "data": {
            "text/html": [
              "<div>\n",
              "<style scoped>\n",
              "    .dataframe tbody tr th:only-of-type {\n",
              "        vertical-align: middle;\n",
              "    }\n",
              "\n",
              "    .dataframe tbody tr th {\n",
              "        vertical-align: top;\n",
              "    }\n",
              "\n",
              "    .dataframe thead th {\n",
              "        text-align: right;\n",
              "    }\n",
              "</style>\n",
              "<table border=\"1\" class=\"dataframe\">\n",
              "  <thead>\n",
              "    <tr style=\"text-align: right;\">\n",
              "      <th></th>\n",
              "      <th>name</th>\n",
              "      <th>price</th>\n",
              "      <th>num</th>\n",
              "    </tr>\n",
              "  </thead>\n",
              "  <tbody>\n",
              "    <tr>\n",
              "      <th>0</th>\n",
              "      <td>ap</td>\n",
              "      <td>2500</td>\n",
              "      <td>10</td>\n",
              "    </tr>\n",
              "    <tr>\n",
              "      <th>1</th>\n",
              "      <td>ba</td>\n",
              "      <td>3800</td>\n",
              "      <td>5</td>\n",
              "    </tr>\n",
              "    <tr>\n",
              "      <th>2</th>\n",
              "      <td>ch</td>\n",
              "      <td>6000</td>\n",
              "      <td>3</td>\n",
              "    </tr>\n",
              "    <tr>\n",
              "      <th>3</th>\n",
              "      <td>pe</td>\n",
              "      <td>1200</td>\n",
              "      <td>8</td>\n",
              "    </tr>\n",
              "  </tbody>\n",
              "</table>\n",
              "</div>"
            ],
            "text/plain": [
              "  name  price  num\n",
              "0   ap   2500   10\n",
              "1   ba   3800    5\n",
              "2   ch   6000    3\n",
              "3   pe   1200    8"
            ]
          },
          "execution_count": 35,
          "metadata": {},
          "output_type": "execute_result"
        }
      ],
      "source": [
        "df = DataFrame(data)\n",
        "df"
      ]
    },
    {
      "cell_type": "code",
      "execution_count": null,
      "id": "8ca6d8ca",
      "metadata": {
        "id": "8ca6d8ca",
        "outputId": "513892cc-4fc3-4134-e5d3-bceb1c207c5c"
      },
      "outputs": [
        {
          "data": {
            "text/html": [
              "<div>\n",
              "<style scoped>\n",
              "    .dataframe tbody tr th:only-of-type {\n",
              "        vertical-align: middle;\n",
              "    }\n",
              "\n",
              "    .dataframe tbody tr th {\n",
              "        vertical-align: top;\n",
              "    }\n",
              "\n",
              "    .dataframe thead th {\n",
              "        text-align: right;\n",
              "    }\n",
              "</style>\n",
              "<table border=\"1\" class=\"dataframe\">\n",
              "  <thead>\n",
              "    <tr style=\"text-align: right;\">\n",
              "      <th></th>\n",
              "      <th>price</th>\n",
              "      <th>num11</th>\n",
              "      <th>name</th>\n",
              "    </tr>\n",
              "  </thead>\n",
              "  <tbody>\n",
              "    <tr>\n",
              "      <th>0</th>\n",
              "      <td>2500</td>\n",
              "      <td>NaN</td>\n",
              "      <td>ap</td>\n",
              "    </tr>\n",
              "    <tr>\n",
              "      <th>1</th>\n",
              "      <td>3800</td>\n",
              "      <td>NaN</td>\n",
              "      <td>ba</td>\n",
              "    </tr>\n",
              "    <tr>\n",
              "      <th>2</th>\n",
              "      <td>6000</td>\n",
              "      <td>NaN</td>\n",
              "      <td>ch</td>\n",
              "    </tr>\n",
              "    <tr>\n",
              "      <th>3</th>\n",
              "      <td>1200</td>\n",
              "      <td>NaN</td>\n",
              "      <td>pe</td>\n",
              "    </tr>\n",
              "  </tbody>\n",
              "</table>\n",
              "</div>"
            ],
            "text/plain": [
              "   price num11 name\n",
              "0   2500   NaN   ap\n",
              "1   3800   NaN   ba\n",
              "2   6000   NaN   ch\n",
              "3   1200   NaN   pe"
            ]
          },
          "execution_count": 39,
          "metadata": {},
          "output_type": "execute_result"
        }
      ],
      "source": [
        "df = DataFrame(data, columns=[\"price\",\"num11\",\"name\"])\n",
        "df"
      ]
    },
    {
      "cell_type": "code",
      "execution_count": null,
      "id": "fdfcc15a",
      "metadata": {
        "id": "fdfcc15a",
        "outputId": "433b4e9e-b22b-4b08-d426-8a9107201b75"
      },
      "outputs": [
        {
          "data": {
            "text/html": [
              "<div>\n",
              "<style scoped>\n",
              "    .dataframe tbody tr th:only-of-type {\n",
              "        vertical-align: middle;\n",
              "    }\n",
              "\n",
              "    .dataframe tbody tr th {\n",
              "        vertical-align: top;\n",
              "    }\n",
              "\n",
              "    .dataframe thead th {\n",
              "        text-align: right;\n",
              "    }\n",
              "</style>\n",
              "<table border=\"1\" class=\"dataframe\">\n",
              "  <thead>\n",
              "    <tr style=\"text-align: right;\">\n",
              "      <th></th>\n",
              "      <th>price</th>\n",
              "      <th>num</th>\n",
              "      <th>name</th>\n",
              "    </tr>\n",
              "  </thead>\n",
              "  <tbody>\n",
              "    <tr>\n",
              "      <th>0</th>\n",
              "      <td>2500</td>\n",
              "      <td>10</td>\n",
              "      <td>ap</td>\n",
              "    </tr>\n",
              "    <tr>\n",
              "      <th>1</th>\n",
              "      <td>3800</td>\n",
              "      <td>5</td>\n",
              "      <td>ba</td>\n",
              "    </tr>\n",
              "    <tr>\n",
              "      <th>2</th>\n",
              "      <td>6000</td>\n",
              "      <td>3</td>\n",
              "      <td>ch</td>\n",
              "    </tr>\n",
              "    <tr>\n",
              "      <th>3</th>\n",
              "      <td>1200</td>\n",
              "      <td>8</td>\n",
              "      <td>pe</td>\n",
              "    </tr>\n",
              "  </tbody>\n",
              "</table>\n",
              "</div>"
            ],
            "text/plain": [
              "   price  num name\n",
              "0   2500   10   ap\n",
              "1   3800    5   ba\n",
              "2   6000    3   ch\n",
              "3   1200    8   pe"
            ]
          },
          "execution_count": 40,
          "metadata": {},
          "output_type": "execute_result"
        }
      ],
      "source": [
        "df = DataFrame(data, columns=[\"price\",\"num\",\"name\"])\n",
        "df"
      ]
    },
    {
      "cell_type": "code",
      "execution_count": null,
      "id": "33d02a01",
      "metadata": {
        "id": "33d02a01",
        "outputId": "36f82ff4-5255-4e67-89bf-51f158f23153"
      },
      "outputs": [
        {
          "data": {
            "text/plain": [
              "0    ap\n",
              "1    ba\n",
              "2    ch\n",
              "3    pe\n",
              "Name: name, dtype: object"
            ]
          },
          "execution_count": 44,
          "metadata": {},
          "output_type": "execute_result"
        }
      ],
      "source": [
        "# 특정 항목 추출 \n",
        "df[\"name\"]"
      ]
    },
    {
      "cell_type": "code",
      "execution_count": null,
      "id": "711ca6d3",
      "metadata": {
        "id": "711ca6d3",
        "outputId": "c8c37b60-d4cc-4ca6-a10e-775c5b6fea57"
      },
      "outputs": [
        {
          "data": {
            "text/plain": [
              "0    ap\n",
              "1    ba\n",
              "2    ch\n",
              "3    pe\n",
              "Name: name, dtype: object"
            ]
          },
          "execution_count": 42,
          "metadata": {},
          "output_type": "execute_result"
        }
      ],
      "source": [
        "df.name"
      ]
    },
    {
      "cell_type": "code",
      "execution_count": null,
      "id": "d7c9388b",
      "metadata": {
        "id": "d7c9388b",
        "outputId": "73e64e04-328e-4e7b-8dc4-8fee3236579b"
      },
      "outputs": [
        {
          "ename": "AttributeError",
          "evalue": "'DataFrame' object has no attribute 'name1'",
          "output_type": "error",
          "traceback": [
            "\u001b[1;31m---------------------------------------------------------------------------\u001b[0m",
            "\u001b[1;31mAttributeError\u001b[0m                            Traceback (most recent call last)",
            "\u001b[1;32m~\\AppData\\Local\\Temp\\ipykernel_1916\\1001874792.py\u001b[0m in \u001b[0;36m<module>\u001b[1;34m\u001b[0m\n\u001b[1;32m----> 1\u001b[1;33m \u001b[0mdf\u001b[0m\u001b[1;33m.\u001b[0m\u001b[0mname1\u001b[0m\u001b[1;33m\u001b[0m\u001b[1;33m\u001b[0m\u001b[0m\n\u001b[0m",
            "\u001b[1;32mC:\\anaconda3\\lib\\site-packages\\pandas\\core\\generic.py\u001b[0m in \u001b[0;36m__getattr__\u001b[1;34m(self, name)\u001b[0m\n\u001b[0;32m   5573\u001b[0m         ):\n\u001b[0;32m   5574\u001b[0m             \u001b[1;32mreturn\u001b[0m \u001b[0mself\u001b[0m\u001b[1;33m[\u001b[0m\u001b[0mname\u001b[0m\u001b[1;33m]\u001b[0m\u001b[1;33m\u001b[0m\u001b[1;33m\u001b[0m\u001b[0m\n\u001b[1;32m-> 5575\u001b[1;33m         \u001b[1;32mreturn\u001b[0m \u001b[0mobject\u001b[0m\u001b[1;33m.\u001b[0m\u001b[0m__getattribute__\u001b[0m\u001b[1;33m(\u001b[0m\u001b[0mself\u001b[0m\u001b[1;33m,\u001b[0m \u001b[0mname\u001b[0m\u001b[1;33m)\u001b[0m\u001b[1;33m\u001b[0m\u001b[1;33m\u001b[0m\u001b[0m\n\u001b[0m\u001b[0;32m   5576\u001b[0m \u001b[1;33m\u001b[0m\u001b[0m\n\u001b[0;32m   5577\u001b[0m     \u001b[1;32mdef\u001b[0m \u001b[0m__setattr__\u001b[0m\u001b[1;33m(\u001b[0m\u001b[0mself\u001b[0m\u001b[1;33m,\u001b[0m \u001b[0mname\u001b[0m\u001b[1;33m:\u001b[0m \u001b[0mstr\u001b[0m\u001b[1;33m,\u001b[0m \u001b[0mvalue\u001b[0m\u001b[1;33m)\u001b[0m \u001b[1;33m->\u001b[0m \u001b[1;32mNone\u001b[0m\u001b[1;33m:\u001b[0m\u001b[1;33m\u001b[0m\u001b[1;33m\u001b[0m\u001b[0m\n",
            "\u001b[1;31mAttributeError\u001b[0m: 'DataFrame' object has no attribute 'name1'"
          ]
        }
      ],
      "source": [
        "df.name1"
      ]
    },
    {
      "cell_type": "code",
      "execution_count": null,
      "id": "99fd0d93",
      "metadata": {
        "id": "99fd0d93",
        "outputId": "4ff5bb52-794c-4646-9c4a-acff2bc09f75"
      },
      "outputs": [
        {
          "data": {
            "text/html": [
              "<div>\n",
              "<style scoped>\n",
              "    .dataframe tbody tr th:only-of-type {\n",
              "        vertical-align: middle;\n",
              "    }\n",
              "\n",
              "    .dataframe tbody tr th {\n",
              "        vertical-align: top;\n",
              "    }\n",
              "\n",
              "    .dataframe thead th {\n",
              "        text-align: right;\n",
              "    }\n",
              "</style>\n",
              "<table border=\"1\" class=\"dataframe\">\n",
              "  <thead>\n",
              "    <tr style=\"text-align: right;\">\n",
              "      <th></th>\n",
              "      <th>price</th>\n",
              "      <th>num</th>\n",
              "      <th>name</th>\n",
              "      <th>year</th>\n",
              "    </tr>\n",
              "  </thead>\n",
              "  <tbody>\n",
              "    <tr>\n",
              "      <th>0</th>\n",
              "      <td>2500</td>\n",
              "      <td>10</td>\n",
              "      <td>ap</td>\n",
              "      <td>2022</td>\n",
              "    </tr>\n",
              "    <tr>\n",
              "      <th>1</th>\n",
              "      <td>3800</td>\n",
              "      <td>5</td>\n",
              "      <td>ba</td>\n",
              "      <td>2022</td>\n",
              "    </tr>\n",
              "    <tr>\n",
              "      <th>2</th>\n",
              "      <td>6000</td>\n",
              "      <td>3</td>\n",
              "      <td>ch</td>\n",
              "      <td>2022</td>\n",
              "    </tr>\n",
              "    <tr>\n",
              "      <th>3</th>\n",
              "      <td>1200</td>\n",
              "      <td>8</td>\n",
              "      <td>pe</td>\n",
              "      <td>2022</td>\n",
              "    </tr>\n",
              "  </tbody>\n",
              "</table>\n",
              "</div>"
            ],
            "text/plain": [
              "   price  num name  year\n",
              "0   2500   10   ap  2022\n",
              "1   3800    5   ba  2022\n",
              "2   6000    3   ch  2022\n",
              "3   1200    8   pe  2022"
            ]
          },
          "execution_count": 45,
          "metadata": {},
          "output_type": "execute_result"
        }
      ],
      "source": [
        "# 컬럼 추가 \n",
        "df[\"year\"] = 2022\n",
        "df"
      ]
    },
    {
      "cell_type": "code",
      "execution_count": null,
      "id": "412f1dd6",
      "metadata": {
        "id": "412f1dd6",
        "outputId": "d89ac677-77e0-41e6-8bde-7b1d22770a03"
      },
      "outputs": [
        {
          "data": {
            "text/plain": [
              "0    4\n",
              "2    2\n",
              "3    1\n",
              "dtype: int64"
            ]
          },
          "execution_count": 46,
          "metadata": {},
          "output_type": "execute_result"
        }
      ],
      "source": [
        "variable = Series([4,2,1], index=[0,2,3])\n",
        "variable"
      ]
    },
    {
      "cell_type": "code",
      "execution_count": null,
      "id": "f6cf527e",
      "metadata": {
        "id": "f6cf527e",
        "outputId": "b8ed2cdf-4c07-4fdb-819a-e73acf3c3284"
      },
      "outputs": [
        {
          "data": {
            "text/html": [
              "<div>\n",
              "<style scoped>\n",
              "    .dataframe tbody tr th:only-of-type {\n",
              "        vertical-align: middle;\n",
              "    }\n",
              "\n",
              "    .dataframe tbody tr th {\n",
              "        vertical-align: top;\n",
              "    }\n",
              "\n",
              "    .dataframe thead th {\n",
              "        text-align: right;\n",
              "    }\n",
              "</style>\n",
              "<table border=\"1\" class=\"dataframe\">\n",
              "  <thead>\n",
              "    <tr style=\"text-align: right;\">\n",
              "      <th></th>\n",
              "      <th>price</th>\n",
              "      <th>num</th>\n",
              "      <th>name</th>\n",
              "      <th>year</th>\n",
              "      <th>stock</th>\n",
              "    </tr>\n",
              "  </thead>\n",
              "  <tbody>\n",
              "    <tr>\n",
              "      <th>0</th>\n",
              "      <td>2500</td>\n",
              "      <td>10</td>\n",
              "      <td>ap</td>\n",
              "      <td>2022</td>\n",
              "      <td>4.0</td>\n",
              "    </tr>\n",
              "    <tr>\n",
              "      <th>1</th>\n",
              "      <td>3800</td>\n",
              "      <td>5</td>\n",
              "      <td>ba</td>\n",
              "      <td>2022</td>\n",
              "      <td>NaN</td>\n",
              "    </tr>\n",
              "    <tr>\n",
              "      <th>2</th>\n",
              "      <td>6000</td>\n",
              "      <td>3</td>\n",
              "      <td>ch</td>\n",
              "      <td>2022</td>\n",
              "      <td>2.0</td>\n",
              "    </tr>\n",
              "    <tr>\n",
              "      <th>3</th>\n",
              "      <td>1200</td>\n",
              "      <td>8</td>\n",
              "      <td>pe</td>\n",
              "      <td>2022</td>\n",
              "      <td>1.0</td>\n",
              "    </tr>\n",
              "  </tbody>\n",
              "</table>\n",
              "</div>"
            ],
            "text/plain": [
              "   price  num name  year  stock\n",
              "0   2500   10   ap  2022    4.0\n",
              "1   3800    5   ba  2022    NaN\n",
              "2   6000    3   ch  2022    2.0\n",
              "3   1200    8   pe  2022    1.0"
            ]
          },
          "execution_count": 47,
          "metadata": {},
          "output_type": "execute_result"
        }
      ],
      "source": [
        "df[\"stock\"] = variable\n",
        "df"
      ]
    },
    {
      "cell_type": "code",
      "execution_count": null,
      "id": "60a39dc6",
      "metadata": {
        "id": "60a39dc6"
      },
      "outputs": [],
      "source": []
    },
    {
      "cell_type": "code",
      "execution_count": null,
      "id": "6dd29da5",
      "metadata": {
        "id": "6dd29da5"
      },
      "outputs": [],
      "source": [
        "# 항목 삭제"
      ]
    },
    {
      "cell_type": "code",
      "execution_count": null,
      "id": "b6a13cbb",
      "metadata": {
        "id": "b6a13cbb",
        "outputId": "18db53df-088c-4cdb-972d-e190b711d985"
      },
      "outputs": [
        {
          "data": {
            "text/plain": [
              "ap    2500\n",
              "ba    3800\n",
              "pe    1200\n",
              "ch    6000\n",
              "dtype: int64"
            ]
          },
          "execution_count": 50,
          "metadata": {},
          "output_type": "execute_result"
        }
      ],
      "source": [
        "fruit = Series(data=[2500,3800,1200,6000],\n",
        "               index=[\"ap\",\"ba\",\"pe\",\"ch\"])\n",
        "fruit"
      ]
    },
    {
      "cell_type": "code",
      "execution_count": null,
      "id": "4f9f4a2d",
      "metadata": {
        "id": "4f9f4a2d",
        "outputId": "0636af24-e948-477d-a97f-c07189f01181"
      },
      "outputs": [
        {
          "data": {
            "text/plain": [
              "ap    2500\n",
              "pe    1200\n",
              "ch    6000\n",
              "dtype: int64"
            ]
          },
          "execution_count": 51,
          "metadata": {},
          "output_type": "execute_result"
        }
      ],
      "source": [
        "fruit.drop(\"ba\")"
      ]
    },
    {
      "cell_type": "code",
      "execution_count": null,
      "id": "b5d2ae14",
      "metadata": {
        "id": "b5d2ae14"
      },
      "outputs": [],
      "source": [
        "new_fruit = fruit.drop(\"ba\")"
      ]
    },
    {
      "cell_type": "code",
      "execution_count": null,
      "id": "d8d47b6a",
      "metadata": {
        "id": "d8d47b6a",
        "outputId": "60d1d974-a454-40d0-b0fa-86c09306cb14"
      },
      "outputs": [
        {
          "name": "stdout",
          "output_type": "stream",
          "text": [
            "ap    2500\n",
            "ba    3800\n",
            "pe    1200\n",
            "ch    6000\n",
            "dtype: int64\n",
            "----------------------------------------\n",
            "ap    2500\n",
            "pe    1200\n",
            "ch    6000\n",
            "dtype: int64\n"
          ]
        }
      ],
      "source": [
        "print(fruit)\n",
        "print(\"-\"*40)\n",
        "print(new_fruit)"
      ]
    },
    {
      "cell_type": "code",
      "execution_count": null,
      "id": "b4c58ff0",
      "metadata": {
        "id": "b4c58ff0"
      },
      "outputs": [],
      "source": []
    },
    {
      "cell_type": "code",
      "execution_count": null,
      "id": "5c8a40b4",
      "metadata": {
        "id": "5c8a40b4"
      },
      "outputs": [],
      "source": [
        "# dataframe 삭제"
      ]
    },
    {
      "cell_type": "code",
      "execution_count": null,
      "id": "257a1d98",
      "metadata": {
        "id": "257a1d98",
        "outputId": "003cad65-9bd7-4d6f-cb77-dffe74fa91d4"
      },
      "outputs": [
        {
          "data": {
            "text/html": [
              "<div>\n",
              "<style scoped>\n",
              "    .dataframe tbody tr th:only-of-type {\n",
              "        vertical-align: middle;\n",
              "    }\n",
              "\n",
              "    .dataframe tbody tr th {\n",
              "        vertical-align: top;\n",
              "    }\n",
              "\n",
              "    .dataframe thead th {\n",
              "        text-align: right;\n",
              "    }\n",
              "</style>\n",
              "<table border=\"1\" class=\"dataframe\">\n",
              "  <thead>\n",
              "    <tr style=\"text-align: right;\">\n",
              "      <th></th>\n",
              "      <th>price</th>\n",
              "      <th>num</th>\n",
              "      <th>name</th>\n",
              "    </tr>\n",
              "  </thead>\n",
              "  <tbody>\n",
              "    <tr>\n",
              "      <th>0</th>\n",
              "      <td>2500</td>\n",
              "      <td>10</td>\n",
              "      <td>ap</td>\n",
              "    </tr>\n",
              "    <tr>\n",
              "      <th>1</th>\n",
              "      <td>3800</td>\n",
              "      <td>5</td>\n",
              "      <td>ba</td>\n",
              "    </tr>\n",
              "    <tr>\n",
              "      <th>2</th>\n",
              "      <td>6000</td>\n",
              "      <td>3</td>\n",
              "      <td>ch</td>\n",
              "    </tr>\n",
              "    <tr>\n",
              "      <th>3</th>\n",
              "      <td>1200</td>\n",
              "      <td>8</td>\n",
              "      <td>pe</td>\n",
              "    </tr>\n",
              "  </tbody>\n",
              "</table>\n",
              "</div>"
            ],
            "text/plain": [
              "   price  num name\n",
              "0   2500   10   ap\n",
              "1   3800    5   ba\n",
              "2   6000    3   ch\n",
              "3   1200    8   pe"
            ]
          },
          "execution_count": 59,
          "metadata": {},
          "output_type": "execute_result"
        }
      ],
      "source": [
        "data = {\"name\":[\"ap\",\"ba\",\"ch\",\"pe\"],\n",
        "        \"price\":[2500,3800,6000,1200],\n",
        "        \"num\":[10,5,3,8]}\n",
        "\n",
        "df = DataFrame(data, columns=[\"price\",\"num\",\"name\"])\n",
        "df"
      ]
    },
    {
      "cell_type": "code",
      "execution_count": null,
      "id": "1eababbf",
      "metadata": {
        "id": "1eababbf",
        "outputId": "23137da9-47d1-40de-ff03-05b350ab035c"
      },
      "outputs": [
        {
          "data": {
            "text/html": [
              "<div>\n",
              "<style scoped>\n",
              "    .dataframe tbody tr th:only-of-type {\n",
              "        vertical-align: middle;\n",
              "    }\n",
              "\n",
              "    .dataframe tbody tr th {\n",
              "        vertical-align: top;\n",
              "    }\n",
              "\n",
              "    .dataframe thead th {\n",
              "        text-align: right;\n",
              "    }\n",
              "</style>\n",
              "<table border=\"1\" class=\"dataframe\">\n",
              "  <thead>\n",
              "    <tr style=\"text-align: right;\">\n",
              "      <th></th>\n",
              "      <th>price</th>\n",
              "      <th>num</th>\n",
              "    </tr>\n",
              "  </thead>\n",
              "  <tbody>\n",
              "    <tr>\n",
              "      <th>ap</th>\n",
              "      <td>2500</td>\n",
              "      <td>10</td>\n",
              "    </tr>\n",
              "    <tr>\n",
              "      <th>ba</th>\n",
              "      <td>3800</td>\n",
              "      <td>5</td>\n",
              "    </tr>\n",
              "    <tr>\n",
              "      <th>ch</th>\n",
              "      <td>6000</td>\n",
              "      <td>3</td>\n",
              "    </tr>\n",
              "    <tr>\n",
              "      <th>pe</th>\n",
              "      <td>1200</td>\n",
              "      <td>8</td>\n",
              "    </tr>\n",
              "  </tbody>\n",
              "</table>\n",
              "</div>"
            ],
            "text/plain": [
              "    price  num\n",
              "ap   2500   10\n",
              "ba   3800    5\n",
              "ch   6000    3\n",
              "pe   1200    8"
            ]
          },
          "execution_count": 68,
          "metadata": {},
          "output_type": "execute_result"
        }
      ],
      "source": [
        "data = {\"name\":[\"ap\",\"ba\",\"ch\",\"pe\"],\n",
        "        \"price\":[2500,3800,6000,1200],\n",
        "        \"num\":[10,5,3,8]}\n",
        "name = data[\"name\"]\n",
        "df1 = DataFrame(data, index=name, columns=[\"price\",\"num\"])\n",
        "df1"
      ]
    },
    {
      "cell_type": "code",
      "execution_count": null,
      "id": "87fd9db2",
      "metadata": {
        "id": "87fd9db2",
        "outputId": "47d9399a-2294-494d-d012-53113faba659"
      },
      "outputs": [
        {
          "data": {
            "text/html": [
              "<div>\n",
              "<style scoped>\n",
              "    .dataframe tbody tr th:only-of-type {\n",
              "        vertical-align: middle;\n",
              "    }\n",
              "\n",
              "    .dataframe tbody tr th {\n",
              "        vertical-align: top;\n",
              "    }\n",
              "\n",
              "    .dataframe thead th {\n",
              "        text-align: right;\n",
              "    }\n",
              "</style>\n",
              "<table border=\"1\" class=\"dataframe\">\n",
              "  <thead>\n",
              "    <tr style=\"text-align: right;\">\n",
              "      <th></th>\n",
              "      <th>price</th>\n",
              "      <th>num</th>\n",
              "    </tr>\n",
              "  </thead>\n",
              "  <tbody>\n",
              "    <tr>\n",
              "      <th>ba</th>\n",
              "      <td>3800</td>\n",
              "      <td>5</td>\n",
              "    </tr>\n",
              "    <tr>\n",
              "      <th>pe</th>\n",
              "      <td>1200</td>\n",
              "      <td>8</td>\n",
              "    </tr>\n",
              "  </tbody>\n",
              "</table>\n",
              "</div>"
            ],
            "text/plain": [
              "    price  num\n",
              "ba   3800    5\n",
              "pe   1200    8"
            ]
          },
          "execution_count": 71,
          "metadata": {},
          "output_type": "execute_result"
        }
      ],
      "source": [
        "df2 = df1.drop([\"ap\",\"ch\"])\n",
        "df2"
      ]
    },
    {
      "cell_type": "code",
      "execution_count": null,
      "id": "34258685",
      "metadata": {
        "id": "34258685",
        "outputId": "8c7e8abc-c3f8-442e-b9d4-5f919aeafdc2"
      },
      "outputs": [
        {
          "data": {
            "text/html": [
              "<div>\n",
              "<style scoped>\n",
              "    .dataframe tbody tr th:only-of-type {\n",
              "        vertical-align: middle;\n",
              "    }\n",
              "\n",
              "    .dataframe tbody tr th {\n",
              "        vertical-align: top;\n",
              "    }\n",
              "\n",
              "    .dataframe thead th {\n",
              "        text-align: right;\n",
              "    }\n",
              "</style>\n",
              "<table border=\"1\" class=\"dataframe\">\n",
              "  <thead>\n",
              "    <tr style=\"text-align: right;\">\n",
              "      <th></th>\n",
              "      <th>price</th>\n",
              "      <th>num</th>\n",
              "    </tr>\n",
              "  </thead>\n",
              "  <tbody>\n",
              "    <tr>\n",
              "      <th>ap</th>\n",
              "      <td>2500</td>\n",
              "      <td>10</td>\n",
              "    </tr>\n",
              "    <tr>\n",
              "      <th>ba</th>\n",
              "      <td>3800</td>\n",
              "      <td>5</td>\n",
              "    </tr>\n",
              "    <tr>\n",
              "      <th>ch</th>\n",
              "      <td>6000</td>\n",
              "      <td>3</td>\n",
              "    </tr>\n",
              "    <tr>\n",
              "      <th>pe</th>\n",
              "      <td>1200</td>\n",
              "      <td>8</td>\n",
              "    </tr>\n",
              "  </tbody>\n",
              "</table>\n",
              "</div>"
            ],
            "text/plain": [
              "    price  num\n",
              "ap   2500   10\n",
              "ba   3800    5\n",
              "ch   6000    3\n",
              "pe   1200    8"
            ]
          },
          "execution_count": 72,
          "metadata": {},
          "output_type": "execute_result"
        }
      ],
      "source": [
        "df1"
      ]
    },
    {
      "cell_type": "code",
      "execution_count": null,
      "id": "7618a10e",
      "metadata": {
        "id": "7618a10e",
        "outputId": "6d02bd44-4ed3-4c82-b8f6-e4a26b3b5791"
      },
      "outputs": [
        {
          "data": {
            "text/html": [
              "<div>\n",
              "<style scoped>\n",
              "    .dataframe tbody tr th:only-of-type {\n",
              "        vertical-align: middle;\n",
              "    }\n",
              "\n",
              "    .dataframe tbody tr th {\n",
              "        vertical-align: top;\n",
              "    }\n",
              "\n",
              "    .dataframe thead th {\n",
              "        text-align: right;\n",
              "    }\n",
              "</style>\n",
              "<table border=\"1\" class=\"dataframe\">\n",
              "  <thead>\n",
              "    <tr style=\"text-align: right;\">\n",
              "      <th></th>\n",
              "      <th>price</th>\n",
              "    </tr>\n",
              "  </thead>\n",
              "  <tbody>\n",
              "    <tr>\n",
              "      <th>ap</th>\n",
              "      <td>2500</td>\n",
              "    </tr>\n",
              "    <tr>\n",
              "      <th>ba</th>\n",
              "      <td>3800</td>\n",
              "    </tr>\n",
              "    <tr>\n",
              "      <th>ch</th>\n",
              "      <td>6000</td>\n",
              "    </tr>\n",
              "    <tr>\n",
              "      <th>pe</th>\n",
              "      <td>1200</td>\n",
              "    </tr>\n",
              "  </tbody>\n",
              "</table>\n",
              "</div>"
            ],
            "text/plain": [
              "    price\n",
              "ap   2500\n",
              "ba   3800\n",
              "ch   6000\n",
              "pe   1200"
            ]
          },
          "execution_count": 75,
          "metadata": {},
          "output_type": "execute_result"
        }
      ],
      "source": [
        "df1.drop(\"num\", axis=1)"
      ]
    },
    {
      "cell_type": "code",
      "execution_count": null,
      "id": "9f59c0e2",
      "metadata": {
        "id": "9f59c0e2"
      },
      "outputs": [],
      "source": [
        "df3 = df1.drop(\"num\", axis=1)"
      ]
    },
    {
      "cell_type": "code",
      "execution_count": null,
      "id": "442c6235",
      "metadata": {
        "id": "442c6235",
        "outputId": "c6caf08e-b52c-4df5-af46-6d31d9f12a81"
      },
      "outputs": [
        {
          "data": {
            "text/html": [
              "<div>\n",
              "<style scoped>\n",
              "    .dataframe tbody tr th:only-of-type {\n",
              "        vertical-align: middle;\n",
              "    }\n",
              "\n",
              "    .dataframe tbody tr th {\n",
              "        vertical-align: top;\n",
              "    }\n",
              "\n",
              "    .dataframe thead th {\n",
              "        text-align: right;\n",
              "    }\n",
              "</style>\n",
              "<table border=\"1\" class=\"dataframe\">\n",
              "  <thead>\n",
              "    <tr style=\"text-align: right;\">\n",
              "      <th></th>\n",
              "      <th>price</th>\n",
              "    </tr>\n",
              "  </thead>\n",
              "  <tbody>\n",
              "    <tr>\n",
              "      <th>ap</th>\n",
              "      <td>2500</td>\n",
              "    </tr>\n",
              "    <tr>\n",
              "      <th>ba</th>\n",
              "      <td>3800</td>\n",
              "    </tr>\n",
              "    <tr>\n",
              "      <th>ch</th>\n",
              "      <td>6000</td>\n",
              "    </tr>\n",
              "    <tr>\n",
              "      <th>pe</th>\n",
              "      <td>1200</td>\n",
              "    </tr>\n",
              "  </tbody>\n",
              "</table>\n",
              "</div>"
            ],
            "text/plain": [
              "    price\n",
              "ap   2500\n",
              "ba   3800\n",
              "ch   6000\n",
              "pe   1200"
            ]
          },
          "execution_count": 79,
          "metadata": {},
          "output_type": "execute_result"
        }
      ],
      "source": [
        "df3"
      ]
    },
    {
      "cell_type": "code",
      "execution_count": null,
      "id": "2f1897d8",
      "metadata": {
        "id": "2f1897d8"
      },
      "outputs": [],
      "source": [
        "df4 = df1.copy()"
      ]
    },
    {
      "cell_type": "code",
      "execution_count": null,
      "id": "2c962e39",
      "metadata": {
        "id": "2c962e39"
      },
      "outputs": [],
      "source": [
        "df4.drop(\"num\",axis=1, inplace=True)"
      ]
    },
    {
      "cell_type": "code",
      "execution_count": null,
      "id": "bad0b38b",
      "metadata": {
        "id": "bad0b38b",
        "outputId": "13b41703-9311-416f-ca69-d65771dbe384"
      },
      "outputs": [
        {
          "data": {
            "text/html": [
              "<div>\n",
              "<style scoped>\n",
              "    .dataframe tbody tr th:only-of-type {\n",
              "        vertical-align: middle;\n",
              "    }\n",
              "\n",
              "    .dataframe tbody tr th {\n",
              "        vertical-align: top;\n",
              "    }\n",
              "\n",
              "    .dataframe thead th {\n",
              "        text-align: right;\n",
              "    }\n",
              "</style>\n",
              "<table border=\"1\" class=\"dataframe\">\n",
              "  <thead>\n",
              "    <tr style=\"text-align: right;\">\n",
              "      <th></th>\n",
              "      <th>price</th>\n",
              "    </tr>\n",
              "  </thead>\n",
              "  <tbody>\n",
              "    <tr>\n",
              "      <th>ap</th>\n",
              "      <td>2500</td>\n",
              "    </tr>\n",
              "    <tr>\n",
              "      <th>ba</th>\n",
              "      <td>3800</td>\n",
              "    </tr>\n",
              "    <tr>\n",
              "      <th>ch</th>\n",
              "      <td>6000</td>\n",
              "    </tr>\n",
              "    <tr>\n",
              "      <th>pe</th>\n",
              "      <td>1200</td>\n",
              "    </tr>\n",
              "  </tbody>\n",
              "</table>\n",
              "</div>"
            ],
            "text/plain": [
              "    price\n",
              "ap   2500\n",
              "ba   3800\n",
              "ch   6000\n",
              "pe   1200"
            ]
          },
          "execution_count": 85,
          "metadata": {},
          "output_type": "execute_result"
        }
      ],
      "source": [
        "df4"
      ]
    },
    {
      "cell_type": "code",
      "execution_count": null,
      "id": "42daa934",
      "metadata": {
        "id": "42daa934"
      },
      "outputs": [],
      "source": []
    },
    {
      "cell_type": "code",
      "execution_count": null,
      "id": "ac60534a",
      "metadata": {
        "id": "ac60534a"
      },
      "outputs": [],
      "source": [
        "# 항목 추출 slice"
      ]
    },
    {
      "cell_type": "code",
      "execution_count": null,
      "id": "c9cfb989",
      "metadata": {
        "id": "c9cfb989",
        "outputId": "7021a9b4-ffb4-4b79-f792-b40feeb18e34"
      },
      "outputs": [
        {
          "data": {
            "text/plain": [
              "ap    2500\n",
              "ba    3800\n",
              "pe    1200\n",
              "ch    6000\n",
              "dtype: int64"
            ]
          },
          "execution_count": 87,
          "metadata": {},
          "output_type": "execute_result"
        }
      ],
      "source": [
        "fruit = Series(data=[2500,3800,1200,6000],\n",
        "               index=[\"ap\",\"ba\",\"pe\",\"ch\"])\n",
        "fruit"
      ]
    },
    {
      "cell_type": "code",
      "execution_count": null,
      "id": "5c11d010",
      "metadata": {
        "id": "5c11d010",
        "outputId": "75a3feee-b64b-4ed5-ed7c-28ffabca6f65"
      },
      "outputs": [
        {
          "data": {
            "text/plain": [
              "ap    2500\n",
              "ba    3800\n",
              "pe    1200\n",
              "dtype: int64"
            ]
          },
          "execution_count": 88,
          "metadata": {},
          "output_type": "execute_result"
        }
      ],
      "source": [
        "fruit[\"ap\":\"pe\"]"
      ]
    },
    {
      "cell_type": "code",
      "execution_count": null,
      "id": "fd46980f",
      "metadata": {
        "id": "fd46980f"
      },
      "outputs": [],
      "source": []
    },
    {
      "cell_type": "code",
      "execution_count": null,
      "id": "86209779",
      "metadata": {
        "id": "86209779",
        "outputId": "5e422ffd-9204-48a2-c055-3844251cf660"
      },
      "outputs": [
        {
          "data": {
            "text/html": [
              "<div>\n",
              "<style scoped>\n",
              "    .dataframe tbody tr th:only-of-type {\n",
              "        vertical-align: middle;\n",
              "    }\n",
              "\n",
              "    .dataframe tbody tr th {\n",
              "        vertical-align: top;\n",
              "    }\n",
              "\n",
              "    .dataframe thead th {\n",
              "        text-align: right;\n",
              "    }\n",
              "</style>\n",
              "<table border=\"1\" class=\"dataframe\">\n",
              "  <thead>\n",
              "    <tr style=\"text-align: right;\">\n",
              "      <th></th>\n",
              "      <th>price</th>\n",
              "      <th>num</th>\n",
              "    </tr>\n",
              "  </thead>\n",
              "  <tbody>\n",
              "    <tr>\n",
              "      <th>ap</th>\n",
              "      <td>2500</td>\n",
              "      <td>10</td>\n",
              "    </tr>\n",
              "    <tr>\n",
              "      <th>ba</th>\n",
              "      <td>3800</td>\n",
              "      <td>5</td>\n",
              "    </tr>\n",
              "    <tr>\n",
              "      <th>ch</th>\n",
              "      <td>6000</td>\n",
              "      <td>3</td>\n",
              "    </tr>\n",
              "    <tr>\n",
              "      <th>pe</th>\n",
              "      <td>1200</td>\n",
              "      <td>8</td>\n",
              "    </tr>\n",
              "  </tbody>\n",
              "</table>\n",
              "</div>"
            ],
            "text/plain": [
              "    price  num\n",
              "ap   2500   10\n",
              "ba   3800    5\n",
              "ch   6000    3\n",
              "pe   1200    8"
            ]
          },
          "execution_count": 91,
          "metadata": {},
          "output_type": "execute_result"
        }
      ],
      "source": [
        "data = {\"name\":[\"ap\",\"ba\",\"ch\",\"pe\"],\n",
        "        \"price\":[2500,3800,6000,1200],\n",
        "        \"num\":[10,5,3,8]}\n",
        "name = data[\"name\"]\n",
        "df = DataFrame(data, index=name, columns=[\"price\",\"num\"])\n",
        "df"
      ]
    },
    {
      "cell_type": "code",
      "execution_count": null,
      "id": "6759889f",
      "metadata": {
        "id": "6759889f",
        "outputId": "db606f8e-208f-471b-901e-0c26d6920c22"
      },
      "outputs": [
        {
          "data": {
            "text/plain": [
              "ap    2500\n",
              "ba    3800\n",
              "ch    6000\n",
              "pe    1200\n",
              "Name: price, dtype: int64"
            ]
          },
          "execution_count": 92,
          "metadata": {},
          "output_type": "execute_result"
        }
      ],
      "source": [
        "df[\"price\"]"
      ]
    },
    {
      "cell_type": "code",
      "execution_count": null,
      "id": "c08bf8c2",
      "metadata": {
        "id": "c08bf8c2",
        "outputId": "45a8b513-0c4e-40b4-8ef6-61056547eccd"
      },
      "outputs": [
        {
          "data": {
            "text/html": [
              "<div>\n",
              "<style scoped>\n",
              "    .dataframe tbody tr th:only-of-type {\n",
              "        vertical-align: middle;\n",
              "    }\n",
              "\n",
              "    .dataframe tbody tr th {\n",
              "        vertical-align: top;\n",
              "    }\n",
              "\n",
              "    .dataframe thead th {\n",
              "        text-align: right;\n",
              "    }\n",
              "</style>\n",
              "<table border=\"1\" class=\"dataframe\">\n",
              "  <thead>\n",
              "    <tr style=\"text-align: right;\">\n",
              "      <th></th>\n",
              "      <th>price</th>\n",
              "      <th>num</th>\n",
              "    </tr>\n",
              "  </thead>\n",
              "  <tbody>\n",
              "    <tr>\n",
              "      <th>ap</th>\n",
              "      <td>2500</td>\n",
              "      <td>10</td>\n",
              "    </tr>\n",
              "    <tr>\n",
              "      <th>ba</th>\n",
              "      <td>3800</td>\n",
              "      <td>5</td>\n",
              "    </tr>\n",
              "  </tbody>\n",
              "</table>\n",
              "</div>"
            ],
            "text/plain": [
              "    price  num\n",
              "ap   2500   10\n",
              "ba   3800    5"
            ]
          },
          "execution_count": 93,
          "metadata": {},
          "output_type": "execute_result"
        }
      ],
      "source": [
        "df[\"ap\":\"ba\"]"
      ]
    },
    {
      "cell_type": "code",
      "execution_count": null,
      "id": "ef61253d",
      "metadata": {
        "id": "ef61253d"
      },
      "outputs": [],
      "source": []
    },
    {
      "cell_type": "code",
      "execution_count": null,
      "id": "38eb3ef7",
      "metadata": {
        "id": "38eb3ef7"
      },
      "outputs": [],
      "source": [
        "# Series 연산"
      ]
    },
    {
      "cell_type": "code",
      "execution_count": null,
      "id": "d376e131",
      "metadata": {
        "id": "d376e131",
        "outputId": "15ae259b-0430-4a59-8a6b-e9abc624917a"
      },
      "outputs": [
        {
          "name": "stdout",
          "output_type": "stream",
          "text": [
            "ap     5\n",
            "ba     9\n",
            "pe    10\n",
            "ch     3\n",
            "dtype: int64\n",
            "----------------------------------------\n",
            "ap     3\n",
            "or     2\n",
            "ba     9\n",
            "ch     5\n",
            "ma    10\n",
            "dtype: int64\n"
          ]
        }
      ],
      "source": [
        "fruit1 = Series(data=[5,9,10,3],\n",
        "               index=[\"ap\",\"ba\",\"pe\",\"ch\"])\n",
        "fruit2 = Series(data=[3,2,9,5,10],\n",
        "               index=[\"ap\",\"or\",\"ba\",\"ch\",\"ma\"])\n",
        "print(fruit1)\n",
        "print(\"-\"*40)\n",
        "print(fruit2)"
      ]
    },
    {
      "cell_type": "code",
      "execution_count": null,
      "id": "7d10b4b0",
      "metadata": {
        "id": "7d10b4b0",
        "outputId": "0be7caf2-3342-4ced-9936-77af3ac7d40f"
      },
      "outputs": [
        {
          "data": {
            "text/plain": [
              "ap     8.0\n",
              "ba    18.0\n",
              "ch     8.0\n",
              "ma     NaN\n",
              "or     NaN\n",
              "pe     NaN\n",
              "dtype: float64"
            ]
          },
          "execution_count": 97,
          "metadata": {},
          "output_type": "execute_result"
        }
      ],
      "source": [
        "fruit1 + fruit2"
      ]
    },
    {
      "cell_type": "code",
      "execution_count": null,
      "id": "57d49353",
      "metadata": {
        "id": "57d49353"
      },
      "outputs": [],
      "source": []
    },
    {
      "cell_type": "code",
      "execution_count": null,
      "id": "d3d3e532",
      "metadata": {
        "id": "d3d3e532",
        "outputId": "623d4e77-46e7-49ee-8120-4a6c0d3d2c10"
      },
      "outputs": [
        {
          "name": "stdout",
          "output_type": "stream",
          "text": [
            "    oh  te\n",
            "ap   4   0\n",
            "ba   8   1\n",
            "ch   3   2\n",
            "pe   5   3\n",
            "--------------------------------------------------\n",
            "    oh  co\n",
            "ap   3   5\n",
            "or   0   4\n",
            "ba   2   3\n",
            "ch   1   6\n",
            "ma   7   0\n"
          ]
        }
      ],
      "source": [
        "df1 = DataFrame({\"oh\":[4,8,3,5], \"te\":[0,1,2,3]},\n",
        "                columns = [\"oh\",\"te\"],\n",
        "                index = [\"ap\",\"ba\",\"ch\",\"pe\"]); print(df1)\n",
        "print(\"-\"*50)\n",
        "df2 = DataFrame({\"oh\":[3,0,2,1,7], \"co\":[5,4,3,6,0]},\n",
        "                columns = [\"oh\",\"co\"],\n",
        "                index = [\"ap\",\"or\",\"ba\",\"ch\",\"ma\"]); print(df2)"
      ]
    },
    {
      "cell_type": "code",
      "execution_count": null,
      "id": "1e76e220",
      "metadata": {
        "id": "1e76e220",
        "outputId": "03917195-0eb4-4727-81d2-06de3ea67f53"
      },
      "outputs": [
        {
          "data": {
            "text/html": [
              "<div>\n",
              "<style scoped>\n",
              "    .dataframe tbody tr th:only-of-type {\n",
              "        vertical-align: middle;\n",
              "    }\n",
              "\n",
              "    .dataframe tbody tr th {\n",
              "        vertical-align: top;\n",
              "    }\n",
              "\n",
              "    .dataframe thead th {\n",
              "        text-align: right;\n",
              "    }\n",
              "</style>\n",
              "<table border=\"1\" class=\"dataframe\">\n",
              "  <thead>\n",
              "    <tr style=\"text-align: right;\">\n",
              "      <th></th>\n",
              "      <th>co</th>\n",
              "      <th>oh</th>\n",
              "      <th>te</th>\n",
              "    </tr>\n",
              "  </thead>\n",
              "  <tbody>\n",
              "    <tr>\n",
              "      <th>ap</th>\n",
              "      <td>NaN</td>\n",
              "      <td>7.0</td>\n",
              "      <td>NaN</td>\n",
              "    </tr>\n",
              "    <tr>\n",
              "      <th>ba</th>\n",
              "      <td>NaN</td>\n",
              "      <td>10.0</td>\n",
              "      <td>NaN</td>\n",
              "    </tr>\n",
              "    <tr>\n",
              "      <th>ch</th>\n",
              "      <td>NaN</td>\n",
              "      <td>4.0</td>\n",
              "      <td>NaN</td>\n",
              "    </tr>\n",
              "    <tr>\n",
              "      <th>ma</th>\n",
              "      <td>NaN</td>\n",
              "      <td>NaN</td>\n",
              "      <td>NaN</td>\n",
              "    </tr>\n",
              "    <tr>\n",
              "      <th>or</th>\n",
              "      <td>NaN</td>\n",
              "      <td>NaN</td>\n",
              "      <td>NaN</td>\n",
              "    </tr>\n",
              "    <tr>\n",
              "      <th>pe</th>\n",
              "      <td>NaN</td>\n",
              "      <td>NaN</td>\n",
              "      <td>NaN</td>\n",
              "    </tr>\n",
              "  </tbody>\n",
              "</table>\n",
              "</div>"
            ],
            "text/plain": [
              "    co    oh  te\n",
              "ap NaN   7.0 NaN\n",
              "ba NaN  10.0 NaN\n",
              "ch NaN   4.0 NaN\n",
              "ma NaN   NaN NaN\n",
              "or NaN   NaN NaN\n",
              "pe NaN   NaN NaN"
            ]
          },
          "execution_count": 100,
          "metadata": {},
          "output_type": "execute_result"
        }
      ],
      "source": [
        "df1 + df2"
      ]
    },
    {
      "cell_type": "code",
      "execution_count": null,
      "id": "1278175b",
      "metadata": {
        "id": "1278175b"
      },
      "outputs": [],
      "source": [
        "# 정렬"
      ]
    },
    {
      "cell_type": "code",
      "execution_count": null,
      "id": "272b9cdc",
      "metadata": {
        "id": "272b9cdc",
        "outputId": "76ea60eb-d540-4b5d-a253-183883f7e3c8"
      },
      "outputs": [
        {
          "data": {
            "text/plain": [
              "ap    2500\n",
              "ba    3800\n",
              "pe    1200\n",
              "ch    6000\n",
              "dtype: int64"
            ]
          },
          "execution_count": 102,
          "metadata": {},
          "output_type": "execute_result"
        }
      ],
      "source": [
        "fruit"
      ]
    },
    {
      "cell_type": "code",
      "execution_count": null,
      "id": "d37ec70e",
      "metadata": {
        "id": "d37ec70e",
        "outputId": "61d267c3-b6bc-45c7-d01d-55e973653c97"
      },
      "outputs": [
        {
          "data": {
            "text/plain": [
              "ch    6000\n",
              "ba    3800\n",
              "ap    2500\n",
              "pe    1200\n",
              "dtype: int64"
            ]
          },
          "execution_count": 106,
          "metadata": {},
          "output_type": "execute_result"
        }
      ],
      "source": [
        "fruit.sort_values(ascending=False)"
      ]
    },
    {
      "cell_type": "code",
      "execution_count": null,
      "id": "e48d0e86",
      "metadata": {
        "id": "e48d0e86",
        "outputId": "6f5d0097-14e1-47f8-d836-869a16ed857a"
      },
      "outputs": [
        {
          "data": {
            "text/plain": [
              "ap    2500\n",
              "ba    3800\n",
              "ch    6000\n",
              "pe    1200\n",
              "dtype: int64"
            ]
          },
          "execution_count": 108,
          "metadata": {},
          "output_type": "execute_result"
        }
      ],
      "source": [
        "fruit.sort_index()"
      ]
    },
    {
      "cell_type": "code",
      "execution_count": null,
      "id": "6e6acc2f",
      "metadata": {
        "id": "6e6acc2f"
      },
      "outputs": [],
      "source": []
    },
    {
      "cell_type": "code",
      "execution_count": null,
      "id": "83945810",
      "metadata": {
        "id": "83945810",
        "outputId": "a1dce6e1-48c6-4f1d-c8ce-039d577f0d97"
      },
      "outputs": [
        {
          "data": {
            "text/html": [
              "<div>\n",
              "<style scoped>\n",
              "    .dataframe tbody tr th:only-of-type {\n",
              "        vertical-align: middle;\n",
              "    }\n",
              "\n",
              "    .dataframe tbody tr th {\n",
              "        vertical-align: top;\n",
              "    }\n",
              "\n",
              "    .dataframe thead th {\n",
              "        text-align: right;\n",
              "    }\n",
              "</style>\n",
              "<table border=\"1\" class=\"dataframe\">\n",
              "  <thead>\n",
              "    <tr style=\"text-align: right;\">\n",
              "      <th></th>\n",
              "      <th>price</th>\n",
              "      <th>num</th>\n",
              "    </tr>\n",
              "  </thead>\n",
              "  <tbody>\n",
              "    <tr>\n",
              "      <th>ap</th>\n",
              "      <td>2500</td>\n",
              "      <td>10</td>\n",
              "    </tr>\n",
              "    <tr>\n",
              "      <th>ba</th>\n",
              "      <td>3800</td>\n",
              "      <td>5</td>\n",
              "    </tr>\n",
              "    <tr>\n",
              "      <th>ch</th>\n",
              "      <td>6000</td>\n",
              "      <td>3</td>\n",
              "    </tr>\n",
              "    <tr>\n",
              "      <th>pe</th>\n",
              "      <td>1200</td>\n",
              "      <td>8</td>\n",
              "    </tr>\n",
              "  </tbody>\n",
              "</table>\n",
              "</div>"
            ],
            "text/plain": [
              "    price  num\n",
              "ap   2500   10\n",
              "ba   3800    5\n",
              "ch   6000    3\n",
              "pe   1200    8"
            ]
          },
          "execution_count": 110,
          "metadata": {},
          "output_type": "execute_result"
        }
      ],
      "source": [
        "df.sort_index()"
      ]
    },
    {
      "cell_type": "code",
      "execution_count": null,
      "id": "55804e28",
      "metadata": {
        "id": "55804e28",
        "outputId": "851a0988-73e5-4a3b-b3ac-cc062cc46998"
      },
      "outputs": [
        {
          "data": {
            "text/html": [
              "<div>\n",
              "<style scoped>\n",
              "    .dataframe tbody tr th:only-of-type {\n",
              "        vertical-align: middle;\n",
              "    }\n",
              "\n",
              "    .dataframe tbody tr th {\n",
              "        vertical-align: top;\n",
              "    }\n",
              "\n",
              "    .dataframe thead th {\n",
              "        text-align: right;\n",
              "    }\n",
              "</style>\n",
              "<table border=\"1\" class=\"dataframe\">\n",
              "  <thead>\n",
              "    <tr style=\"text-align: right;\">\n",
              "      <th></th>\n",
              "      <th>num</th>\n",
              "      <th>price</th>\n",
              "    </tr>\n",
              "  </thead>\n",
              "  <tbody>\n",
              "    <tr>\n",
              "      <th>ap</th>\n",
              "      <td>10</td>\n",
              "      <td>2500</td>\n",
              "    </tr>\n",
              "    <tr>\n",
              "      <th>ba</th>\n",
              "      <td>5</td>\n",
              "      <td>3800</td>\n",
              "    </tr>\n",
              "    <tr>\n",
              "      <th>ch</th>\n",
              "      <td>3</td>\n",
              "      <td>6000</td>\n",
              "    </tr>\n",
              "    <tr>\n",
              "      <th>pe</th>\n",
              "      <td>8</td>\n",
              "      <td>1200</td>\n",
              "    </tr>\n",
              "  </tbody>\n",
              "</table>\n",
              "</div>"
            ],
            "text/plain": [
              "    num  price\n",
              "ap   10   2500\n",
              "ba    5   3800\n",
              "ch    3   6000\n",
              "pe    8   1200"
            ]
          },
          "execution_count": 111,
          "metadata": {},
          "output_type": "execute_result"
        }
      ],
      "source": [
        "df.sort_index(axis=1)"
      ]
    },
    {
      "cell_type": "code",
      "execution_count": null,
      "id": "701ed8f7",
      "metadata": {
        "id": "701ed8f7",
        "outputId": "6edb3622-9db9-47ec-fd1e-62173f0e60df"
      },
      "outputs": [
        {
          "data": {
            "text/html": [
              "<div>\n",
              "<style scoped>\n",
              "    .dataframe tbody tr th:only-of-type {\n",
              "        vertical-align: middle;\n",
              "    }\n",
              "\n",
              "    .dataframe tbody tr th {\n",
              "        vertical-align: top;\n",
              "    }\n",
              "\n",
              "    .dataframe thead th {\n",
              "        text-align: right;\n",
              "    }\n",
              "</style>\n",
              "<table border=\"1\" class=\"dataframe\">\n",
              "  <thead>\n",
              "    <tr style=\"text-align: right;\">\n",
              "      <th></th>\n",
              "      <th>price</th>\n",
              "      <th>num</th>\n",
              "    </tr>\n",
              "  </thead>\n",
              "  <tbody>\n",
              "    <tr>\n",
              "      <th>pe</th>\n",
              "      <td>1200</td>\n",
              "      <td>8</td>\n",
              "    </tr>\n",
              "    <tr>\n",
              "      <th>ap</th>\n",
              "      <td>2500</td>\n",
              "      <td>10</td>\n",
              "    </tr>\n",
              "    <tr>\n",
              "      <th>ba</th>\n",
              "      <td>3800</td>\n",
              "      <td>5</td>\n",
              "    </tr>\n",
              "    <tr>\n",
              "      <th>ch</th>\n",
              "      <td>6000</td>\n",
              "      <td>3</td>\n",
              "    </tr>\n",
              "  </tbody>\n",
              "</table>\n",
              "</div>"
            ],
            "text/plain": [
              "    price  num\n",
              "pe   1200    8\n",
              "ap   2500   10\n",
              "ba   3800    5\n",
              "ch   6000    3"
            ]
          },
          "execution_count": 112,
          "metadata": {},
          "output_type": "execute_result"
        }
      ],
      "source": [
        "df.sort_values([\"price\"])"
      ]
    },
    {
      "cell_type": "code",
      "execution_count": null,
      "id": "9f8abdd3",
      "metadata": {
        "id": "9f8abdd3"
      },
      "outputs": [],
      "source": []
    },
    {
      "cell_type": "code",
      "execution_count": null,
      "id": "0b18772b",
      "metadata": {
        "id": "0b18772b"
      },
      "outputs": [],
      "source": []
    }
  ],
  "metadata": {
    "kernelspec": {
      "display_name": "Python 3 (ipykernel)",
      "language": "python",
      "name": "python3"
    },
    "language_info": {
      "codemirror_mode": {
        "name": "ipython",
        "version": 3
      },
      "file_extension": ".py",
      "mimetype": "text/x-python",
      "name": "python",
      "nbconvert_exporter": "python",
      "pygments_lexer": "ipython3",
      "version": "3.9.13"
    },
    "colab": {
      "provenance": [],
      "include_colab_link": true
    }
  },
  "nbformat": 4,
  "nbformat_minor": 5
}