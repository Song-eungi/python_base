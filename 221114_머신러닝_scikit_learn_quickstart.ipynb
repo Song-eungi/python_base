{
  "cells": [
    {
      "cell_type": "markdown",
      "metadata": {
        "id": "view-in-github",
        "colab_type": "text"
      },
      "source": [
        "<a href=\"https://colab.research.google.com/github/Song-eungi/python_base/blob/main/221114_%EB%A8%B8%EC%8B%A0%EB%9F%AC%EB%8B%9D_scikit_learn_quickstart.ipynb\" target=\"_parent\"><img src=\"https://colab.research.google.com/assets/colab-badge.svg\" alt=\"Open In Colab\"/></a>"
      ]
    },
    {
      "cell_type": "code",
      "execution_count": null,
      "id": "c4afe37a",
      "metadata": {
        "id": "c4afe37a"
      },
      "outputs": [],
      "source": [
        "# https://scikit-learn.org/stable/getting_started.html"
      ]
    },
    {
      "cell_type": "code",
      "execution_count": null,
      "id": "cbb32454",
      "metadata": {
        "id": "cbb32454"
      },
      "outputs": [],
      "source": [
        "# 모델 선택 및 사용 준비 \n",
        "from sklearn.ensemble import RandomForestClassifier\n",
        "clf = RandomForestClassifier(random_state=0)"
      ]
    },
    {
      "cell_type": "code",
      "execution_count": null,
      "id": "be52782b",
      "metadata": {
        "id": "be52782b"
      },
      "outputs": [],
      "source": [
        "# 데이터 셋 \n",
        "X = [[1, 2, 3],\n",
        "     [11, 12, 13]]\n",
        "y = [0, 1]"
      ]
    },
    {
      "cell_type": "code",
      "execution_count": null,
      "id": "c2f5452f",
      "metadata": {
        "id": "c2f5452f",
        "outputId": "31034a20-7192-4770-84a7-69288820f443"
      },
      "outputs": [
        {
          "data": {
            "text/plain": [
              "RandomForestClassifier(random_state=0)"
            ]
          },
          "execution_count": 13,
          "metadata": {},
          "output_type": "execute_result"
        }
      ],
      "source": [
        "# 모델 훈련 \n",
        "clf.fit(X, y)"
      ]
    },
    {
      "cell_type": "code",
      "execution_count": null,
      "id": "f3ef6733",
      "metadata": {
        "id": "f3ef6733",
        "outputId": "c5cd64f7-4560-451b-bc54-eb79cfa13463"
      },
      "outputs": [
        {
          "data": {
            "text/plain": [
              "array([0, 1])"
            ]
          },
          "execution_count": 14,
          "metadata": {},
          "output_type": "execute_result"
        }
      ],
      "source": [
        "# 모델로 값 예측 \n",
        "clf.predict(X)"
      ]
    },
    {
      "cell_type": "code",
      "execution_count": null,
      "id": "3d84b416",
      "metadata": {
        "id": "3d84b416",
        "outputId": "a3c9b04f-b661-4371-83b1-3e9461728e0e"
      },
      "outputs": [
        {
          "data": {
            "text/plain": [
              "array([0, 1])"
            ]
          },
          "execution_count": 15,
          "metadata": {},
          "output_type": "execute_result"
        }
      ],
      "source": [
        "X1 = [[4,5,6], [14,15,16]]\n",
        "clf.predict(X1)"
      ]
    },
    {
      "cell_type": "code",
      "execution_count": null,
      "id": "ccf85761",
      "metadata": {
        "id": "ccf85761",
        "outputId": "814e0165-b70f-4812-9c4a-9d62e4333113"
      },
      "outputs": [
        {
          "data": {
            "text/plain": [
              "array([0, 0])"
            ]
          },
          "execution_count": 18,
          "metadata": {},
          "output_type": "execute_result"
        }
      ],
      "source": [
        "X2 = [[4,5,6], [6,7,8]]\n",
        "clf.predict(X2)"
      ]
    },
    {
      "cell_type": "code",
      "execution_count": null,
      "id": "d77919fc",
      "metadata": {
        "id": "d77919fc"
      },
      "outputs": [],
      "source": []
    },
    {
      "cell_type": "markdown",
      "id": "d10d1433",
      "metadata": {
        "id": "d10d1433"
      },
      "source": [
        "### (  Transformers and pre-processors  )"
      ]
    },
    {
      "cell_type": "code",
      "execution_count": null,
      "id": "f418e764",
      "metadata": {
        "id": "f418e764"
      },
      "outputs": [],
      "source": [
        "from sklearn.preprocessing import StandardScaler"
      ]
    },
    {
      "cell_type": "code",
      "execution_count": null,
      "id": "ef05275f",
      "metadata": {
        "id": "ef05275f"
      },
      "outputs": [],
      "source": [
        "X = [[0, 15],\n",
        "     [1, -10]]"
      ]
    },
    {
      "cell_type": "code",
      "execution_count": null,
      "id": "f258589c",
      "metadata": {
        "id": "f258589c",
        "outputId": "f52b875f-7995-45ad-9998-6a979b51bb57"
      },
      "outputs": [
        {
          "data": {
            "text/plain": [
              "array([[-1.,  1.],\n",
              "       [ 1., -1.]])"
            ]
          },
          "execution_count": 22,
          "metadata": {},
          "output_type": "execute_result"
        }
      ],
      "source": [
        "StandardScaler().fit(X).transform(X)"
      ]
    },
    {
      "cell_type": "code",
      "execution_count": null,
      "id": "f60b8bfa",
      "metadata": {
        "id": "f60b8bfa"
      },
      "outputs": [],
      "source": []
    },
    {
      "cell_type": "code",
      "execution_count": null,
      "id": "51fe23a9",
      "metadata": {
        "id": "51fe23a9"
      },
      "outputs": [],
      "source": [
        "# https://scikit-learn.org/stable/modules/generated/sklearn.preprocessing.StandardScaler.html#sklearn.preprocessing.StandardScaler"
      ]
    },
    {
      "cell_type": "code",
      "execution_count": null,
      "id": "735aeb0b",
      "metadata": {
        "id": "735aeb0b"
      },
      "outputs": [],
      "source": [
        "from sklearn.preprocessing import StandardScaler\n",
        "data = [[0, 0], [0, 0], [1, 1], [1, 1]]\n",
        "scaler = StandardScaler()"
      ]
    },
    {
      "cell_type": "code",
      "execution_count": null,
      "id": "1add85fd",
      "metadata": {
        "id": "1add85fd",
        "outputId": "93cba0e3-c55e-4a4f-88d2-296fd51acb63"
      },
      "outputs": [
        {
          "name": "stdout",
          "output_type": "stream",
          "text": [
            "StandardScaler()\n"
          ]
        }
      ],
      "source": [
        "print(scaler.fit(data))"
      ]
    },
    {
      "cell_type": "code",
      "execution_count": null,
      "id": "5418c055",
      "metadata": {
        "id": "5418c055",
        "outputId": "d7da30ea-b773-4b33-a488-c7b3a453c1eb"
      },
      "outputs": [
        {
          "data": {
            "text/plain": [
              "array([0.5, 0.5])"
            ]
          },
          "execution_count": 28,
          "metadata": {},
          "output_type": "execute_result"
        }
      ],
      "source": [
        "scaler.mean_"
      ]
    },
    {
      "cell_type": "code",
      "execution_count": null,
      "id": "806bc7d9",
      "metadata": {
        "id": "806bc7d9",
        "outputId": "4047ec40-3b5f-4393-d58f-4dae92ca4e17"
      },
      "outputs": [
        {
          "data": {
            "text/plain": [
              "array([[-1., -1.],\n",
              "       [-1., -1.],\n",
              "       [ 1.,  1.],\n",
              "       [ 1.,  1.]])"
            ]
          },
          "execution_count": 30,
          "metadata": {},
          "output_type": "execute_result"
        }
      ],
      "source": [
        "scaler.transform(data)"
      ]
    },
    {
      "cell_type": "code",
      "execution_count": null,
      "id": "38642867",
      "metadata": {
        "id": "38642867",
        "outputId": "a667e0de-1a65-4c8f-e9fa-a486307b903f"
      },
      "outputs": [
        {
          "data": {
            "text/plain": [
              "array([[3., 3.]])"
            ]
          },
          "execution_count": 32,
          "metadata": {},
          "output_type": "execute_result"
        }
      ],
      "source": [
        "scaler.transform([[2,2]])"
      ]
    },
    {
      "cell_type": "code",
      "execution_count": null,
      "id": "56808d24",
      "metadata": {
        "id": "56808d24"
      },
      "outputs": [],
      "source": []
    },
    {
      "cell_type": "markdown",
      "id": "78661575",
      "metadata": {
        "id": "78661575"
      },
      "source": [
        "### ( Pipelines: chaining pre-processors and estimators )"
      ]
    },
    {
      "cell_type": "code",
      "execution_count": null,
      "id": "c489653d",
      "metadata": {
        "id": "c489653d"
      },
      "outputs": [],
      "source": [
        "from sklearn.preprocessing import StandardScaler\n",
        "from sklearn.linear_model import LogisticRegression\n",
        "from sklearn.pipeline import make_pipeline\n",
        "from sklearn.datasets import load_iris\n",
        "from sklearn.model_selection import train_test_split\n",
        "from sklearn.metrics import accuracy_score"
      ]
    },
    {
      "cell_type": "code",
      "execution_count": null,
      "id": "003033cf",
      "metadata": {
        "id": "003033cf"
      },
      "outputs": [],
      "source": [
        "#  pipeline 객체 생성 \n",
        "pipe = make_pipeline(\n",
        "       StandardScaler(),\n",
        "       LogisticRegression())"
      ]
    },
    {
      "cell_type": "code",
      "execution_count": null,
      "id": "2367994f",
      "metadata": {
        "id": "2367994f"
      },
      "outputs": [],
      "source": [
        "# 데이터 셋 \n",
        "X, y = load_iris(return_X_y=True)"
      ]
    },
    {
      "cell_type": "code",
      "execution_count": null,
      "id": "bd3e58b3",
      "metadata": {
        "id": "bd3e58b3",
        "outputId": "cb5ffe71-9acf-44c6-afb6-4a3c3d76718d"
      },
      "outputs": [
        {
          "data": {
            "text/plain": [
              "array([[5.1, 3.5, 1.4, 0.2],\n",
              "       [4.9, 3. , 1.4, 0.2],\n",
              "       [4.7, 3.2, 1.3, 0.2],\n",
              "       [4.6, 3.1, 1.5, 0.2],\n",
              "       [5. , 3.6, 1.4, 0.2]])"
            ]
          },
          "execution_count": 52,
          "metadata": {},
          "output_type": "execute_result"
        }
      ],
      "source": [
        "X[:5]"
      ]
    },
    {
      "cell_type": "code",
      "execution_count": null,
      "id": "f155798b",
      "metadata": {
        "id": "f155798b",
        "outputId": "a5d79c9c-0337-4c8e-8e50-f3e9600d34a5"
      },
      "outputs": [
        {
          "data": {
            "text/plain": [
              "array([0, 0, 0, 0, 0])"
            ]
          },
          "execution_count": 53,
          "metadata": {},
          "output_type": "execute_result"
        }
      ],
      "source": [
        "y[:5]"
      ]
    },
    {
      "cell_type": "code",
      "execution_count": null,
      "id": "78f2f25f",
      "metadata": {
        "id": "78f2f25f"
      },
      "outputs": [],
      "source": []
    },
    {
      "cell_type": "code",
      "execution_count": null,
      "id": "7ae1f8cf",
      "metadata": {
        "id": "7ae1f8cf"
      },
      "outputs": [],
      "source": [
        "import seaborn as sns\n",
        "iris = sns.load_dataset(\"iris\")"
      ]
    },
    {
      "cell_type": "code",
      "execution_count": null,
      "id": "909614d1",
      "metadata": {
        "id": "909614d1"
      },
      "outputs": [],
      "source": []
    },
    {
      "cell_type": "code",
      "execution_count": null,
      "id": "67a4e985",
      "metadata": {
        "id": "67a4e985",
        "outputId": "c50b2f35-df02-43ad-a0ec-cbfc836e291f"
      },
      "outputs": [
        {
          "name": "stdout",
          "output_type": "stream",
          "text": [
            "(150, 4) (150,)\n",
            "(127, 4) (23, 4) (127,) (23,)\n"
          ]
        }
      ],
      "source": [
        "# train and test set 만들기 \n",
        "X_train, X_test, y_train, y_test = train_test_split(X, y, \n",
        "                                                    train_size= 0.85, \n",
        "                                                    random_state=123)\n",
        "\n",
        "print(X.shape, y.shape)\n",
        "print(X_train.shape, X_test.shape, y_train.shape, y_test.shape)"
      ]
    },
    {
      "cell_type": "code",
      "execution_count": null,
      "id": "5fe0aa5c",
      "metadata": {
        "id": "5fe0aa5c",
        "outputId": "d6beb835-0f62-4136-88f8-524e5f2b8d48"
      },
      "outputs": [
        {
          "data": {
            "text/plain": [
              "Pipeline(steps=[('standardscaler', StandardScaler()),\n",
              "                ('logisticregression', LogisticRegression())])"
            ]
          },
          "execution_count": 73,
          "metadata": {},
          "output_type": "execute_result"
        }
      ],
      "source": [
        "# fit the pipeline\n",
        "pipe.fit(X_train, y_train)"
      ]
    },
    {
      "cell_type": "code",
      "execution_count": null,
      "id": "864d0390",
      "metadata": {
        "id": "864d0390",
        "outputId": "c1711f82-311f-43b9-f028-563396973236"
      },
      "outputs": [
        {
          "data": {
            "text/plain": [
              "array([1, 2, 2, 1, 0, 2, 1, 0, 0, 1, 2, 0, 1, 2, 2, 2, 0, 0, 1, 0, 0, 1,\n",
              "       0])"
            ]
          },
          "execution_count": 75,
          "metadata": {},
          "output_type": "execute_result"
        }
      ],
      "source": [
        "pipe.predict(X_test)"
      ]
    },
    {
      "cell_type": "code",
      "execution_count": null,
      "id": "c7bfb807",
      "metadata": {
        "id": "c7bfb807",
        "outputId": "ab506faa-3257-4577-c052-668db4ca082f"
      },
      "outputs": [
        {
          "data": {
            "text/plain": [
              "array([1, 2, 2, 1, 0, 2, 1, 0, 0, 1, 2, 0, 1, 2, 2, 2, 0, 0, 1, 0, 0, 2,\n",
              "       0])"
            ]
          },
          "execution_count": 76,
          "metadata": {},
          "output_type": "execute_result"
        }
      ],
      "source": [
        "y_test"
      ]
    },
    {
      "cell_type": "code",
      "execution_count": null,
      "id": "770e986f",
      "metadata": {
        "id": "770e986f",
        "outputId": "bdd4ba45-c117-48f6-a0ec-11fcb6559404"
      },
      "outputs": [
        {
          "data": {
            "text/plain": [
              "0.9565217391304348"
            ]
          },
          "execution_count": 77,
          "metadata": {},
          "output_type": "execute_result"
        }
      ],
      "source": [
        "# test 데이터 예측 결과 채점\n",
        "accuracy_score(pipe.predict(X_test),y_test )"
      ]
    },
    {
      "cell_type": "code",
      "execution_count": null,
      "id": "6334bc62",
      "metadata": {
        "id": "6334bc62",
        "outputId": "e4a42a30-0289-4e54-9e1e-932ec85fc4f0"
      },
      "outputs": [
        {
          "data": {
            "text/html": [
              "<div>\n",
              "<style scoped>\n",
              "    .dataframe tbody tr th:only-of-type {\n",
              "        vertical-align: middle;\n",
              "    }\n",
              "\n",
              "    .dataframe tbody tr th {\n",
              "        vertical-align: top;\n",
              "    }\n",
              "\n",
              "    .dataframe thead th {\n",
              "        text-align: right;\n",
              "    }\n",
              "</style>\n",
              "<table border=\"1\" class=\"dataframe\">\n",
              "  <thead>\n",
              "    <tr style=\"text-align: right;\">\n",
              "      <th></th>\n",
              "      <th>sepal_length</th>\n",
              "      <th>sepal_width</th>\n",
              "      <th>petal_length</th>\n",
              "      <th>petal_width</th>\n",
              "      <th>species</th>\n",
              "    </tr>\n",
              "  </thead>\n",
              "  <tbody>\n",
              "    <tr>\n",
              "      <th>0</th>\n",
              "      <td>5.1</td>\n",
              "      <td>3.5</td>\n",
              "      <td>1.4</td>\n",
              "      <td>0.2</td>\n",
              "      <td>setosa</td>\n",
              "    </tr>\n",
              "    <tr>\n",
              "      <th>1</th>\n",
              "      <td>4.9</td>\n",
              "      <td>3.0</td>\n",
              "      <td>1.4</td>\n",
              "      <td>0.2</td>\n",
              "      <td>setosa</td>\n",
              "    </tr>\n",
              "    <tr>\n",
              "      <th>2</th>\n",
              "      <td>4.7</td>\n",
              "      <td>3.2</td>\n",
              "      <td>1.3</td>\n",
              "      <td>0.2</td>\n",
              "      <td>setosa</td>\n",
              "    </tr>\n",
              "  </tbody>\n",
              "</table>\n",
              "</div>"
            ],
            "text/plain": [
              "   sepal_length  sepal_width  petal_length  petal_width species\n",
              "0           5.1          3.5           1.4          0.2  setosa\n",
              "1           4.9          3.0           1.4          0.2  setosa\n",
              "2           4.7          3.2           1.3          0.2  setosa"
            ]
          },
          "execution_count": 78,
          "metadata": {},
          "output_type": "execute_result"
        }
      ],
      "source": [
        "iris.head(3)"
      ]
    },
    {
      "cell_type": "code",
      "execution_count": null,
      "id": "98677757",
      "metadata": {
        "id": "98677757",
        "outputId": "58887324-761d-4ab7-dc24-eee491c618bb"
      },
      "outputs": [
        {
          "data": {
            "text/plain": [
              "sepal_length          6.9\n",
              "sepal_width           3.2\n",
              "petal_length          5.7\n",
              "petal_width           2.3\n",
              "species         virginica\n",
              "Name: 120, dtype: object"
            ]
          },
          "execution_count": 79,
          "metadata": {},
          "output_type": "execute_result"
        }
      ],
      "source": [
        "iris.iloc[120]"
      ]
    },
    {
      "cell_type": "code",
      "execution_count": null,
      "id": "fc41d30a",
      "metadata": {
        "id": "fc41d30a",
        "outputId": "4f2b699b-a4cc-493b-e382-a862e9ca7a97"
      },
      "outputs": [
        {
          "data": {
            "text/plain": [
              "array([0])"
            ]
          },
          "execution_count": 83,
          "metadata": {},
          "output_type": "execute_result"
        }
      ],
      "source": [
        "new_data = [[1.5, 1.3, 1.7, 1.6]]\n",
        "\n",
        "pipe.predict(new_data)"
      ]
    },
    {
      "cell_type": "code",
      "execution_count": null,
      "id": "a8c59923",
      "metadata": {
        "id": "a8c59923"
      },
      "outputs": [],
      "source": [
        "MY_RANDOM = 1234"
      ]
    },
    {
      "cell_type": "code",
      "execution_count": null,
      "id": "da173dbf",
      "metadata": {
        "id": "da173dbf"
      },
      "outputs": [],
      "source": [
        "from sklearn.preprocessing import StandardScaler\n",
        "from sklearn.linear_model import LogisticRegression\n",
        "from sklearn.pipeline import make_pipeline\n",
        "from sklearn.datasets import load_iris\n",
        "from sklearn.model_selection import train_test_split\n",
        "from sklearn.metrics import accuracy_score\n",
        "\n",
        "#  pipeline 객체 생성 \n",
        "pipe = make_pipeline(\n",
        "       StandardScaler(),\n",
        "       LogisticRegression())\n",
        "\n",
        "X, y = load_iris(return_X_y=True) # 데이터 셋 \n",
        "\n",
        "# train and test set 만들기 \n",
        "X_train, X_test, y_train, y_test = train_test_split(X, y,train_size= 0.85, \n",
        "                                                    random_state=123)\n",
        "\n",
        "pipe.fit(X_train, y_train) # fit the pipeline\n",
        "accuracy_score(pipe.predict(X_test),y_test ) # test 데이터 예측 결과 채점\n",
        "\n",
        "pipe.predict(new_data) # 모델 확정후 실 데이터 적용 "
      ]
    },
    {
      "cell_type": "code",
      "execution_count": null,
      "id": "e2dcd21d",
      "metadata": {
        "id": "e2dcd21d"
      },
      "outputs": [],
      "source": []
    },
    {
      "cell_type": "markdown",
      "id": "8e3fdb0b",
      "metadata": {
        "id": "8e3fdb0b"
      },
      "source": [
        "### ( Model evaluation )"
      ]
    },
    {
      "cell_type": "code",
      "execution_count": null,
      "id": "398c1b97",
      "metadata": {
        "id": "398c1b97"
      },
      "outputs": [],
      "source": [
        "from sklearn.datasets import make_regression\n",
        "from sklearn.linear_model import LinearRegression\n",
        "from sklearn.model_selection import cross_validate"
      ]
    },
    {
      "cell_type": "code",
      "execution_count": null,
      "id": "4320ae67",
      "metadata": {
        "id": "4320ae67"
      },
      "outputs": [],
      "source": [
        "MY_RANDOM = 123\n",
        "X, y = make_regression(n_samples=1000, random_state=MY_RANDOM)"
      ]
    },
    {
      "cell_type": "code",
      "execution_count": null,
      "id": "492f7206",
      "metadata": {
        "id": "492f7206"
      },
      "outputs": [],
      "source": [
        "lr = LinearRegression()"
      ]
    },
    {
      "cell_type": "code",
      "execution_count": null,
      "id": "33b4d57d",
      "metadata": {
        "id": "33b4d57d"
      },
      "outputs": [],
      "source": [
        "result = cross_validate(lr, X, y)"
      ]
    },
    {
      "cell_type": "code",
      "execution_count": null,
      "id": "00b311b6",
      "metadata": {
        "id": "00b311b6",
        "outputId": "70d30e79-edb9-43f0-b87d-57f19cb108db"
      },
      "outputs": [
        {
          "data": {
            "text/plain": [
              "{'fit_time': array([0.00997782, 0.00500083, 0.00600338, 0.00599122, 0.00500464]),\n",
              " 'score_time': array([0.        , 0.00099611, 0.        , 0.        , 0.        ]),\n",
              " 'test_score': array([1., 1., 1., 1., 1.])}"
            ]
          },
          "execution_count": 97,
          "metadata": {},
          "output_type": "execute_result"
        }
      ],
      "source": [
        "result"
      ]
    },
    {
      "cell_type": "code",
      "execution_count": null,
      "id": "d9c5b519",
      "metadata": {
        "id": "d9c5b519"
      },
      "outputs": [],
      "source": []
    },
    {
      "cell_type": "code",
      "execution_count": null,
      "id": "fbdf9899",
      "metadata": {
        "id": "fbdf9899"
      },
      "outputs": [],
      "source": []
    },
    {
      "cell_type": "markdown",
      "id": "7ccbde9c",
      "metadata": {
        "id": "7ccbde9c"
      },
      "source": [
        "### ( Automatic parameter searches )"
      ]
    },
    {
      "cell_type": "code",
      "execution_count": null,
      "id": "71a60827",
      "metadata": {
        "id": "71a60827"
      },
      "outputs": [],
      "source": [
        "from sklearn.datasets import fetch_california_housing\n",
        "from sklearn.ensemble import RandomForestRegressor\n",
        "from sklearn.model_selection import RandomizedSearchCV\n",
        "from sklearn.model_selection import train_test_split\n",
        "from scipy.stats import randint"
      ]
    },
    {
      "cell_type": "code",
      "execution_count": null,
      "id": "f0513715",
      "metadata": {
        "id": "f0513715"
      },
      "outputs": [],
      "source": [
        "X, y = fetch_california_housing(return_X_y=True)"
      ]
    },
    {
      "cell_type": "code",
      "execution_count": null,
      "id": "cf2f4280",
      "metadata": {
        "id": "cf2f4280",
        "outputId": "48481b4e-deef-4fcb-fac7-d5e2f14d0d96"
      },
      "outputs": [
        {
          "data": {
            "text/plain": [
              "array([4.526, 3.585, 3.521, ..., 0.923, 0.847, 0.894])"
            ]
          },
          "execution_count": 103,
          "metadata": {},
          "output_type": "execute_result"
        }
      ],
      "source": [
        "y"
      ]
    },
    {
      "cell_type": "code",
      "execution_count": null,
      "id": "b7f1a886",
      "metadata": {
        "id": "b7f1a886",
        "outputId": "f36cbdc5-0bd3-44dc-d3bc-6fe01b2d464b"
      },
      "outputs": [
        {
          "data": {
            "text/plain": [
              "array([   8.3252    ,   41.        ,    6.98412698,    1.02380952,\n",
              "        322.        ,    2.55555556,   37.88      , -122.23      ])"
            ]
          },
          "execution_count": 104,
          "metadata": {},
          "output_type": "execute_result"
        }
      ],
      "source": [
        "X[0]"
      ]
    },
    {
      "cell_type": "code",
      "execution_count": null,
      "id": "8f381aa0",
      "metadata": {
        "id": "8f381aa0"
      },
      "outputs": [],
      "source": [
        "X_train, X_test, y_train, y_test = train_test_split(X, y, random_state=0)"
      ]
    },
    {
      "cell_type": "code",
      "execution_count": null,
      "id": "7d6c48b3",
      "metadata": {
        "id": "7d6c48b3"
      },
      "outputs": [],
      "source": [
        "param_distributions = {'n_estimators': randint(1, 5),\n",
        "                       'max_depth': randint(5, 10)}"
      ]
    },
    {
      "cell_type": "code",
      "execution_count": null,
      "id": "4144498c",
      "metadata": {
        "id": "4144498c"
      },
      "outputs": [],
      "source": [
        "search = RandomizedSearchCV(estimator=RandomForestRegressor(random_state=0),\n",
        "                            n_iter=5,\n",
        "                            param_distributions=param_distributions,\n",
        "                            random_state=0)"
      ]
    },
    {
      "cell_type": "code",
      "execution_count": null,
      "id": "f231dde3",
      "metadata": {
        "id": "f231dde3",
        "outputId": "7b80c5bb-d290-4066-b056-d9ed70cbdfa3"
      },
      "outputs": [
        {
          "data": {
            "text/plain": [
              "RandomizedSearchCV(estimator=RandomForestRegressor(random_state=0), n_iter=5,\n",
              "                   param_distributions={'max_depth': <scipy.stats._distn_infrastructure.rv_discrete_frozen object at 0x0000013C07B6F100>,\n",
              "                                        'n_estimators': <scipy.stats._distn_infrastructure.rv_discrete_frozen object at 0x0000013C073C7250>},\n",
              "                   random_state=0)"
            ]
          },
          "execution_count": 108,
          "metadata": {},
          "output_type": "execute_result"
        }
      ],
      "source": [
        "search.fit(X_train, y_train)"
      ]
    },
    {
      "cell_type": "code",
      "execution_count": null,
      "id": "da369636",
      "metadata": {
        "id": "da369636",
        "outputId": "aba7f1ab-eff6-4a2c-8be5-be6b1b2eef34"
      },
      "outputs": [
        {
          "data": {
            "text/plain": [
              "{'max_depth': 9, 'n_estimators': 4}"
            ]
          },
          "execution_count": 110,
          "metadata": {},
          "output_type": "execute_result"
        }
      ],
      "source": [
        "search.best_params_"
      ]
    },
    {
      "cell_type": "code",
      "execution_count": null,
      "id": "7f06a7b6",
      "metadata": {
        "id": "7f06a7b6",
        "outputId": "b372229a-d852-49b8-fa4d-4695064c502c"
      },
      "outputs": [
        {
          "data": {
            "text/plain": [
              "0.735363411343253"
            ]
          },
          "execution_count": 111,
          "metadata": {},
          "output_type": "execute_result"
        }
      ],
      "source": [
        "search.score(X_test, y_test)"
      ]
    },
    {
      "cell_type": "code",
      "execution_count": null,
      "id": "fac09813",
      "metadata": {
        "id": "fac09813"
      },
      "outputs": [],
      "source": [
        "# base line ->  0.55 ... 65%??   "
      ]
    },
    {
      "cell_type": "code",
      "execution_count": null,
      "id": "93e1718e",
      "metadata": {
        "id": "93e1718e"
      },
      "outputs": [],
      "source": []
    }
  ],
  "metadata": {
    "kernelspec": {
      "display_name": "Python 3 (ipykernel)",
      "language": "python",
      "name": "python3"
    },
    "language_info": {
      "codemirror_mode": {
        "name": "ipython",
        "version": 3
      },
      "file_extension": ".py",
      "mimetype": "text/x-python",
      "name": "python",
      "nbconvert_exporter": "python",
      "pygments_lexer": "ipython3",
      "version": "3.9.13"
    },
    "colab": {
      "provenance": [],
      "include_colab_link": true
    }
  },
  "nbformat": 4,
  "nbformat_minor": 5
}